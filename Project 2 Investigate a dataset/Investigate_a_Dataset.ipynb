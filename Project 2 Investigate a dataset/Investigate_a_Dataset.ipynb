{
 "cells": [
  {
   "cell_type": "markdown",
   "metadata": {},
   "source": [
    "# Project: Investigate the TMDB Movies Dataset\n",
    "\n",
    "## Table of Contents\n",
    "<ul>\n",
    "<li><a href=\"#intro\">Introduction</a></li>\n",
    "<li><a href=\"#wrangling\">Data Wrangling</a></li>\n",
    "<li><a href=\"#eda\">Exploratory Data Analysis</a></li>\n",
    "<li><a href=\"#conclusions\">Conclusions</a></li>\n",
    "</ul>"
   ]
  },
  {
   "cell_type": "markdown",
   "metadata": {},
   "source": [
    "<a id='intro'></a>\n",
    "## Introduction"
   ]
  },
  {
   "cell_type": "markdown",
   "metadata": {},
   "source": [
    "### About the dataset"
   ]
  },
  {
   "cell_type": "markdown",
   "metadata": {},
   "source": [
    "The chosen dataset is: TMDb movie data (cleaned from original data on Kaggle) <br>\n",
    "This data set contains information about 10,000 movies collected from The Movie Database (TMDb), including user ratings and revenue.\n",
    "<br>\n",
    "● Certain columns, like ‘cast’ and ‘genres’, contain multiple values separated by pipe (|) characters.\n",
    "<br>\n",
    "● There are some odd characters in the ‘cast’ column. Don’t worry about cleaning them. You can leave them as is.\n",
    "<br>\n",
    "● The final two columns ending with “_adj” show the budget and revenue of the associated movie in terms of 2010 dollars, accounting for inflation over time."
   ]
  },
  {
   "cell_type": "markdown",
   "metadata": {},
   "source": [
    "The 21 columns in this dataset: <br>\n",
    "1. id: unique ids for each row\n",
    "2. imdb_id: iMDB ids\n",
    "3. popularity - popularity score\n",
    "4. budget - budget in USD\n",
    "5. revenue - revenue in USD\n",
    "6. original_title - movie title\n",
    "7. cast - cast of each movie\n",
    "8. homepage - website link of each movie\n",
    "9. director - director name\n",
    "10. tagline - tagline of the movie\n",
    "11. keywords - words that give the idea of the movie\n",
    "12. overview - general plot of the movie\n",
    "13. runtime - movie duration in minutes\n",
    "14. genres - genre of the movie\n",
    "15. production_companies - the production companies that produced the movie\n",
    "16. release_date - release date of the movie\n",
    "17. vote_count - number of votes given by viewers\n",
    "18. vote_average - average vote (rating) given by viewers\n",
    "19. release_year - the year of each movie release\n",
    "20. budget_adj - budget in 2010 dollars, adjusted for inflation\n",
    "21. revenue_adj - revenue in 2010 dollars, adjusted for inflation"
   ]
  },
  {
   "cell_type": "markdown",
   "metadata": {},
   "source": [
    "The questions this investigation explores are: <br>\n",
    "1. What attributes have the highest correlation between each other? <br>\n",
    "2. What genre was the most released each year? And how many movies were released under each genre? <br>\n",
    "3. What is the average rating of each genre? <br>\n",
    "4. What is the biggest production of each year from 1960 to 2015? <br>\n",
    "5. What is the highest-grossing movie of each year between 1960 and 2015? <br>\n",
    "6. What is the general trend between popularity and the vote count? <br>\n",
    "7. What is the general trend between Release Year and Popularity? <br>\n",
    "8. How did the movies budgets change over the years? <br>\n",
    "9. How many movies were released per month? <br>\n",
    "10. What is the average runtime of movies? And what is the most common runtime? <br>\n",
    "11. What are the production companies with the most releases? <br>\n",
    "12. What are the most popular and the least popular movies? <br>\n",
    "13. Who are the most popular movie stars? <br>\n",
    "14. How did the number of released movies change over the years? <br>\n",
    "15. What are the properties of each category of movies based on the movie budget? <br>\n",
    "16. What are the properties of each category of movies based on the movie rating? <br>"
   ]
  },
  {
   "cell_type": "markdown",
   "metadata": {},
   "source": [
    "First, the necessary libraries are loaded."
   ]
  },
  {
   "cell_type": "code",
   "execution_count": 137,
   "metadata": {},
   "outputs": [],
   "source": [
    "import pandas as pd\n",
    "import numpy as np\n",
    "from matplotlib import pyplot as plt\n",
    "import seaborn as sns\n",
    "%matplotlib inline"
   ]
  },
  {
   "cell_type": "code",
   "execution_count": 3,
   "metadata": {
    "scrolled": true
   },
   "outputs": [
    {
     "name": "stdout",
     "output_type": "stream",
     "text": [
      "Collecting impyute\n",
      "  Downloading https://files.pythonhosted.org/packages/37/28/86829f67c9affb847facaab94687761d3555539ec675f7577778c5b2680a/impyute-0.0.8-py2.py3-none-any.whl\n",
      "Requirement already satisfied: scikit-learn in /opt/conda/lib/python3.6/site-packages (from impyute) (0.19.1)\n",
      "Requirement already satisfied: numpy in /opt/conda/lib/python3.6/site-packages (from impyute) (1.12.1)\n",
      "Requirement already satisfied: scipy in /opt/conda/lib/python3.6/site-packages (from impyute) (1.2.1)\n",
      "Installing collected packages: impyute\n",
      "Successfully installed impyute-0.0.8\n"
     ]
    }
   ],
   "source": [
    "!pip install impyute\n",
    "from impyute.imputation.cs import mice"
   ]
  },
  {
   "cell_type": "markdown",
   "metadata": {},
   "source": [
    "<a id='wrangling'></a>\n",
    "## Data Wrangling\n",
    "\n",
    "### General Properties"
   ]
  },
  {
   "cell_type": "markdown",
   "metadata": {},
   "source": [
    "Once the data is loaded, the following procedures are needed: <br>\n",
    "● Remove unnecessary information that are not useful for analysis (e.g. homepage, tagline, etc.) <br>\n",
    "● Change data types if needed (e.g. convert the release date to datetime and extract month and weekday) <br>\n",
    "● Inspection for any duplicated values (e.g. duplicate movie entries) <br>\n",
    "● Inspection for any erratic values (values that do not make sense, e.g. dropping movies with a runtime of 0 minutes!) <br>\n",
    "● Handling any null values (e.g. imputation of null budget or null revenue values using MICE) <br>\n",
    "● Split the multiple values separated by pipe (|) characters to multiple columns"
   ]
  },
  {
   "cell_type": "code",
   "execution_count": 4,
   "metadata": {
    "scrolled": false
   },
   "outputs": [
    {
     "data": {
      "text/html": [
       "<div>\n",
       "<style scoped>\n",
       "    .dataframe tbody tr th:only-of-type {\n",
       "        vertical-align: middle;\n",
       "    }\n",
       "\n",
       "    .dataframe tbody tr th {\n",
       "        vertical-align: top;\n",
       "    }\n",
       "\n",
       "    .dataframe thead th {\n",
       "        text-align: right;\n",
       "    }\n",
       "</style>\n",
       "<table border=\"1\" class=\"dataframe\">\n",
       "  <thead>\n",
       "    <tr style=\"text-align: right;\">\n",
       "      <th></th>\n",
       "      <th>id</th>\n",
       "      <th>imdb_id</th>\n",
       "      <th>popularity</th>\n",
       "      <th>budget</th>\n",
       "      <th>revenue</th>\n",
       "      <th>original_title</th>\n",
       "      <th>cast</th>\n",
       "      <th>homepage</th>\n",
       "      <th>director</th>\n",
       "      <th>tagline</th>\n",
       "      <th>...</th>\n",
       "      <th>overview</th>\n",
       "      <th>runtime</th>\n",
       "      <th>genres</th>\n",
       "      <th>production_companies</th>\n",
       "      <th>release_date</th>\n",
       "      <th>vote_count</th>\n",
       "      <th>vote_average</th>\n",
       "      <th>release_year</th>\n",
       "      <th>budget_adj</th>\n",
       "      <th>revenue_adj</th>\n",
       "    </tr>\n",
       "  </thead>\n",
       "  <tbody>\n",
       "    <tr>\n",
       "      <th>0</th>\n",
       "      <td>135397</td>\n",
       "      <td>tt0369610</td>\n",
       "      <td>32.985763</td>\n",
       "      <td>150000000</td>\n",
       "      <td>1513528810</td>\n",
       "      <td>Jurassic World</td>\n",
       "      <td>Chris Pratt|Bryce Dallas Howard|Irrfan Khan|Vi...</td>\n",
       "      <td>http://www.jurassicworld.com/</td>\n",
       "      <td>Colin Trevorrow</td>\n",
       "      <td>The park is open.</td>\n",
       "      <td>...</td>\n",
       "      <td>Twenty-two years after the events of Jurassic ...</td>\n",
       "      <td>124</td>\n",
       "      <td>Action|Adventure|Science Fiction|Thriller</td>\n",
       "      <td>Universal Studios|Amblin Entertainment|Legenda...</td>\n",
       "      <td>6/9/15</td>\n",
       "      <td>5562</td>\n",
       "      <td>6.5</td>\n",
       "      <td>2015</td>\n",
       "      <td>1.379999e+08</td>\n",
       "      <td>1.392446e+09</td>\n",
       "    </tr>\n",
       "    <tr>\n",
       "      <th>1</th>\n",
       "      <td>76341</td>\n",
       "      <td>tt1392190</td>\n",
       "      <td>28.419936</td>\n",
       "      <td>150000000</td>\n",
       "      <td>378436354</td>\n",
       "      <td>Mad Max: Fury Road</td>\n",
       "      <td>Tom Hardy|Charlize Theron|Hugh Keays-Byrne|Nic...</td>\n",
       "      <td>http://www.madmaxmovie.com/</td>\n",
       "      <td>George Miller</td>\n",
       "      <td>What a Lovely Day.</td>\n",
       "      <td>...</td>\n",
       "      <td>An apocalyptic story set in the furthest reach...</td>\n",
       "      <td>120</td>\n",
       "      <td>Action|Adventure|Science Fiction|Thriller</td>\n",
       "      <td>Village Roadshow Pictures|Kennedy Miller Produ...</td>\n",
       "      <td>5/13/15</td>\n",
       "      <td>6185</td>\n",
       "      <td>7.1</td>\n",
       "      <td>2015</td>\n",
       "      <td>1.379999e+08</td>\n",
       "      <td>3.481613e+08</td>\n",
       "    </tr>\n",
       "    <tr>\n",
       "      <th>2</th>\n",
       "      <td>262500</td>\n",
       "      <td>tt2908446</td>\n",
       "      <td>13.112507</td>\n",
       "      <td>110000000</td>\n",
       "      <td>295238201</td>\n",
       "      <td>Insurgent</td>\n",
       "      <td>Shailene Woodley|Theo James|Kate Winslet|Ansel...</td>\n",
       "      <td>http://www.thedivergentseries.movie/#insurgent</td>\n",
       "      <td>Robert Schwentke</td>\n",
       "      <td>One Choice Can Destroy You</td>\n",
       "      <td>...</td>\n",
       "      <td>Beatrice Prior must confront her inner demons ...</td>\n",
       "      <td>119</td>\n",
       "      <td>Adventure|Science Fiction|Thriller</td>\n",
       "      <td>Summit Entertainment|Mandeville Films|Red Wago...</td>\n",
       "      <td>3/18/15</td>\n",
       "      <td>2480</td>\n",
       "      <td>6.3</td>\n",
       "      <td>2015</td>\n",
       "      <td>1.012000e+08</td>\n",
       "      <td>2.716190e+08</td>\n",
       "    </tr>\n",
       "    <tr>\n",
       "      <th>3</th>\n",
       "      <td>140607</td>\n",
       "      <td>tt2488496</td>\n",
       "      <td>11.173104</td>\n",
       "      <td>200000000</td>\n",
       "      <td>2068178225</td>\n",
       "      <td>Star Wars: The Force Awakens</td>\n",
       "      <td>Harrison Ford|Mark Hamill|Carrie Fisher|Adam D...</td>\n",
       "      <td>http://www.starwars.com/films/star-wars-episod...</td>\n",
       "      <td>J.J. Abrams</td>\n",
       "      <td>Every generation has a story.</td>\n",
       "      <td>...</td>\n",
       "      <td>Thirty years after defeating the Galactic Empi...</td>\n",
       "      <td>136</td>\n",
       "      <td>Action|Adventure|Science Fiction|Fantasy</td>\n",
       "      <td>Lucasfilm|Truenorth Productions|Bad Robot</td>\n",
       "      <td>12/15/15</td>\n",
       "      <td>5292</td>\n",
       "      <td>7.5</td>\n",
       "      <td>2015</td>\n",
       "      <td>1.839999e+08</td>\n",
       "      <td>1.902723e+09</td>\n",
       "    </tr>\n",
       "    <tr>\n",
       "      <th>4</th>\n",
       "      <td>168259</td>\n",
       "      <td>tt2820852</td>\n",
       "      <td>9.335014</td>\n",
       "      <td>190000000</td>\n",
       "      <td>1506249360</td>\n",
       "      <td>Furious 7</td>\n",
       "      <td>Vin Diesel|Paul Walker|Jason Statham|Michelle ...</td>\n",
       "      <td>http://www.furious7.com/</td>\n",
       "      <td>James Wan</td>\n",
       "      <td>Vengeance Hits Home</td>\n",
       "      <td>...</td>\n",
       "      <td>Deckard Shaw seeks revenge against Dominic Tor...</td>\n",
       "      <td>137</td>\n",
       "      <td>Action|Crime|Thriller</td>\n",
       "      <td>Universal Pictures|Original Film|Media Rights ...</td>\n",
       "      <td>4/1/15</td>\n",
       "      <td>2947</td>\n",
       "      <td>7.3</td>\n",
       "      <td>2015</td>\n",
       "      <td>1.747999e+08</td>\n",
       "      <td>1.385749e+09</td>\n",
       "    </tr>\n",
       "  </tbody>\n",
       "</table>\n",
       "<p>5 rows × 21 columns</p>\n",
       "</div>"
      ],
      "text/plain": [
       "       id    imdb_id  popularity     budget     revenue  \\\n",
       "0  135397  tt0369610   32.985763  150000000  1513528810   \n",
       "1   76341  tt1392190   28.419936  150000000   378436354   \n",
       "2  262500  tt2908446   13.112507  110000000   295238201   \n",
       "3  140607  tt2488496   11.173104  200000000  2068178225   \n",
       "4  168259  tt2820852    9.335014  190000000  1506249360   \n",
       "\n",
       "                 original_title  \\\n",
       "0                Jurassic World   \n",
       "1            Mad Max: Fury Road   \n",
       "2                     Insurgent   \n",
       "3  Star Wars: The Force Awakens   \n",
       "4                     Furious 7   \n",
       "\n",
       "                                                cast  \\\n",
       "0  Chris Pratt|Bryce Dallas Howard|Irrfan Khan|Vi...   \n",
       "1  Tom Hardy|Charlize Theron|Hugh Keays-Byrne|Nic...   \n",
       "2  Shailene Woodley|Theo James|Kate Winslet|Ansel...   \n",
       "3  Harrison Ford|Mark Hamill|Carrie Fisher|Adam D...   \n",
       "4  Vin Diesel|Paul Walker|Jason Statham|Michelle ...   \n",
       "\n",
       "                                            homepage          director  \\\n",
       "0                      http://www.jurassicworld.com/   Colin Trevorrow   \n",
       "1                        http://www.madmaxmovie.com/     George Miller   \n",
       "2     http://www.thedivergentseries.movie/#insurgent  Robert Schwentke   \n",
       "3  http://www.starwars.com/films/star-wars-episod...       J.J. Abrams   \n",
       "4                           http://www.furious7.com/         James Wan   \n",
       "\n",
       "                         tagline      ...       \\\n",
       "0              The park is open.      ...        \n",
       "1             What a Lovely Day.      ...        \n",
       "2     One Choice Can Destroy You      ...        \n",
       "3  Every generation has a story.      ...        \n",
       "4            Vengeance Hits Home      ...        \n",
       "\n",
       "                                            overview runtime  \\\n",
       "0  Twenty-two years after the events of Jurassic ...     124   \n",
       "1  An apocalyptic story set in the furthest reach...     120   \n",
       "2  Beatrice Prior must confront her inner demons ...     119   \n",
       "3  Thirty years after defeating the Galactic Empi...     136   \n",
       "4  Deckard Shaw seeks revenge against Dominic Tor...     137   \n",
       "\n",
       "                                      genres  \\\n",
       "0  Action|Adventure|Science Fiction|Thriller   \n",
       "1  Action|Adventure|Science Fiction|Thriller   \n",
       "2         Adventure|Science Fiction|Thriller   \n",
       "3   Action|Adventure|Science Fiction|Fantasy   \n",
       "4                      Action|Crime|Thriller   \n",
       "\n",
       "                                production_companies release_date vote_count  \\\n",
       "0  Universal Studios|Amblin Entertainment|Legenda...       6/9/15       5562   \n",
       "1  Village Roadshow Pictures|Kennedy Miller Produ...      5/13/15       6185   \n",
       "2  Summit Entertainment|Mandeville Films|Red Wago...      3/18/15       2480   \n",
       "3          Lucasfilm|Truenorth Productions|Bad Robot     12/15/15       5292   \n",
       "4  Universal Pictures|Original Film|Media Rights ...       4/1/15       2947   \n",
       "\n",
       "   vote_average  release_year    budget_adj   revenue_adj  \n",
       "0           6.5          2015  1.379999e+08  1.392446e+09  \n",
       "1           7.1          2015  1.379999e+08  3.481613e+08  \n",
       "2           6.3          2015  1.012000e+08  2.716190e+08  \n",
       "3           7.5          2015  1.839999e+08  1.902723e+09  \n",
       "4           7.3          2015  1.747999e+08  1.385749e+09  \n",
       "\n",
       "[5 rows x 21 columns]"
      ]
     },
     "execution_count": 4,
     "metadata": {},
     "output_type": "execute_result"
    }
   ],
   "source": [
    "df = pd.read_csv('https://d17h27t6h515a5.cloudfront.net/topher/2017/October/59dd1c4c_tmdb-movies/tmdb-movies.csv') #load the data\n",
    "df.head() #show the first five entries"
   ]
  },
  {
   "cell_type": "code",
   "execution_count": 5,
   "metadata": {},
   "outputs": [
    {
     "data": {
      "text/plain": [
       "(10866, 21)"
      ]
     },
     "execution_count": 5,
     "metadata": {},
     "output_type": "execute_result"
    }
   ],
   "source": [
    "df.shape #shape of the dataset (rows, columns)"
   ]
  },
  {
   "cell_type": "code",
   "execution_count": 6,
   "metadata": {},
   "outputs": [
    {
     "data": {
      "text/plain": [
       "id                        int64\n",
       "imdb_id                  object\n",
       "popularity              float64\n",
       "budget                    int64\n",
       "revenue                   int64\n",
       "original_title           object\n",
       "cast                     object\n",
       "homepage                 object\n",
       "director                 object\n",
       "tagline                  object\n",
       "keywords                 object\n",
       "overview                 object\n",
       "runtime                   int64\n",
       "genres                   object\n",
       "production_companies     object\n",
       "release_date             object\n",
       "vote_count                int64\n",
       "vote_average            float64\n",
       "release_year              int64\n",
       "budget_adj              float64\n",
       "revenue_adj             float64\n",
       "dtype: object"
      ]
     },
     "execution_count": 6,
     "metadata": {},
     "output_type": "execute_result"
    }
   ],
   "source": [
    "df.dtypes #datatype of each column"
   ]
  },
  {
   "cell_type": "code",
   "execution_count": 7,
   "metadata": {},
   "outputs": [
    {
     "name": "stdout",
     "output_type": "stream",
     "text": [
      "<class 'pandas.core.frame.DataFrame'>\n",
      "RangeIndex: 10866 entries, 0 to 10865\n",
      "Data columns (total 21 columns):\n",
      "id                      10866 non-null int64\n",
      "imdb_id                 10856 non-null object\n",
      "popularity              10866 non-null float64\n",
      "budget                  10866 non-null int64\n",
      "revenue                 10866 non-null int64\n",
      "original_title          10866 non-null object\n",
      "cast                    10790 non-null object\n",
      "homepage                2936 non-null object\n",
      "director                10822 non-null object\n",
      "tagline                 8042 non-null object\n",
      "keywords                9373 non-null object\n",
      "overview                10862 non-null object\n",
      "runtime                 10866 non-null int64\n",
      "genres                  10843 non-null object\n",
      "production_companies    9836 non-null object\n",
      "release_date            10866 non-null object\n",
      "vote_count              10866 non-null int64\n",
      "vote_average            10866 non-null float64\n",
      "release_year            10866 non-null int64\n",
      "budget_adj              10866 non-null float64\n",
      "revenue_adj             10866 non-null float64\n",
      "dtypes: float64(4), int64(6), object(11)\n",
      "memory usage: 1.7+ MB\n"
     ]
    }
   ],
   "source": [
    "df.info() #number of non-null objects in each column and the datatype"
   ]
  },
  {
   "cell_type": "code",
   "execution_count": 8,
   "metadata": {},
   "outputs": [
    {
     "data": {
      "text/plain": [
       "homepage                7930\n",
       "tagline                 2824\n",
       "keywords                1493\n",
       "production_companies    1030\n",
       "cast                      76\n",
       "director                  44\n",
       "genres                    23\n",
       "imdb_id                   10\n",
       "overview                   4\n",
       "popularity                 0\n",
       "budget                     0\n",
       "revenue                    0\n",
       "original_title             0\n",
       "revenue_adj                0\n",
       "budget_adj                 0\n",
       "runtime                    0\n",
       "release_date               0\n",
       "vote_count                 0\n",
       "vote_average               0\n",
       "release_year               0\n",
       "id                         0\n",
       "dtype: int64"
      ]
     },
     "execution_count": 8,
     "metadata": {},
     "output_type": "execute_result"
    }
   ],
   "source": [
    "df.isnull().sum().sort_values(ascending = False) #no. of null values in each column"
   ]
  },
  {
   "cell_type": "code",
   "execution_count": 9,
   "metadata": {},
   "outputs": [
    {
     "data": {
      "text/html": [
       "<div>\n",
       "<style scoped>\n",
       "    .dataframe tbody tr th:only-of-type {\n",
       "        vertical-align: middle;\n",
       "    }\n",
       "\n",
       "    .dataframe tbody tr th {\n",
       "        vertical-align: top;\n",
       "    }\n",
       "\n",
       "    .dataframe thead th {\n",
       "        text-align: right;\n",
       "    }\n",
       "</style>\n",
       "<table border=\"1\" class=\"dataframe\">\n",
       "  <thead>\n",
       "    <tr style=\"text-align: right;\">\n",
       "      <th></th>\n",
       "      <th>id</th>\n",
       "      <th>popularity</th>\n",
       "      <th>budget</th>\n",
       "      <th>revenue</th>\n",
       "      <th>runtime</th>\n",
       "      <th>vote_count</th>\n",
       "      <th>vote_average</th>\n",
       "      <th>release_year</th>\n",
       "      <th>budget_adj</th>\n",
       "      <th>revenue_adj</th>\n",
       "    </tr>\n",
       "  </thead>\n",
       "  <tbody>\n",
       "    <tr>\n",
       "      <th>count</th>\n",
       "      <td>10866.000000</td>\n",
       "      <td>10866.000000</td>\n",
       "      <td>1.086600e+04</td>\n",
       "      <td>1.086600e+04</td>\n",
       "      <td>10866.000000</td>\n",
       "      <td>10866.000000</td>\n",
       "      <td>10866.000000</td>\n",
       "      <td>10866.000000</td>\n",
       "      <td>1.086600e+04</td>\n",
       "      <td>1.086600e+04</td>\n",
       "    </tr>\n",
       "    <tr>\n",
       "      <th>mean</th>\n",
       "      <td>66064.177434</td>\n",
       "      <td>0.646441</td>\n",
       "      <td>1.462570e+07</td>\n",
       "      <td>3.982332e+07</td>\n",
       "      <td>102.070863</td>\n",
       "      <td>217.389748</td>\n",
       "      <td>5.974922</td>\n",
       "      <td>2001.322658</td>\n",
       "      <td>1.755104e+07</td>\n",
       "      <td>5.136436e+07</td>\n",
       "    </tr>\n",
       "    <tr>\n",
       "      <th>std</th>\n",
       "      <td>92130.136561</td>\n",
       "      <td>1.000185</td>\n",
       "      <td>3.091321e+07</td>\n",
       "      <td>1.170035e+08</td>\n",
       "      <td>31.381405</td>\n",
       "      <td>575.619058</td>\n",
       "      <td>0.935142</td>\n",
       "      <td>12.812941</td>\n",
       "      <td>3.430616e+07</td>\n",
       "      <td>1.446325e+08</td>\n",
       "    </tr>\n",
       "    <tr>\n",
       "      <th>min</th>\n",
       "      <td>5.000000</td>\n",
       "      <td>0.000065</td>\n",
       "      <td>0.000000e+00</td>\n",
       "      <td>0.000000e+00</td>\n",
       "      <td>0.000000</td>\n",
       "      <td>10.000000</td>\n",
       "      <td>1.500000</td>\n",
       "      <td>1960.000000</td>\n",
       "      <td>0.000000e+00</td>\n",
       "      <td>0.000000e+00</td>\n",
       "    </tr>\n",
       "    <tr>\n",
       "      <th>25%</th>\n",
       "      <td>10596.250000</td>\n",
       "      <td>0.207583</td>\n",
       "      <td>0.000000e+00</td>\n",
       "      <td>0.000000e+00</td>\n",
       "      <td>90.000000</td>\n",
       "      <td>17.000000</td>\n",
       "      <td>5.400000</td>\n",
       "      <td>1995.000000</td>\n",
       "      <td>0.000000e+00</td>\n",
       "      <td>0.000000e+00</td>\n",
       "    </tr>\n",
       "    <tr>\n",
       "      <th>50%</th>\n",
       "      <td>20669.000000</td>\n",
       "      <td>0.383856</td>\n",
       "      <td>0.000000e+00</td>\n",
       "      <td>0.000000e+00</td>\n",
       "      <td>99.000000</td>\n",
       "      <td>38.000000</td>\n",
       "      <td>6.000000</td>\n",
       "      <td>2006.000000</td>\n",
       "      <td>0.000000e+00</td>\n",
       "      <td>0.000000e+00</td>\n",
       "    </tr>\n",
       "    <tr>\n",
       "      <th>75%</th>\n",
       "      <td>75610.000000</td>\n",
       "      <td>0.713817</td>\n",
       "      <td>1.500000e+07</td>\n",
       "      <td>2.400000e+07</td>\n",
       "      <td>111.000000</td>\n",
       "      <td>145.750000</td>\n",
       "      <td>6.600000</td>\n",
       "      <td>2011.000000</td>\n",
       "      <td>2.085325e+07</td>\n",
       "      <td>3.369710e+07</td>\n",
       "    </tr>\n",
       "    <tr>\n",
       "      <th>max</th>\n",
       "      <td>417859.000000</td>\n",
       "      <td>32.985763</td>\n",
       "      <td>4.250000e+08</td>\n",
       "      <td>2.781506e+09</td>\n",
       "      <td>900.000000</td>\n",
       "      <td>9767.000000</td>\n",
       "      <td>9.200000</td>\n",
       "      <td>2015.000000</td>\n",
       "      <td>4.250000e+08</td>\n",
       "      <td>2.827124e+09</td>\n",
       "    </tr>\n",
       "  </tbody>\n",
       "</table>\n",
       "</div>"
      ],
      "text/plain": [
       "                  id    popularity        budget       revenue       runtime  \\\n",
       "count   10866.000000  10866.000000  1.086600e+04  1.086600e+04  10866.000000   \n",
       "mean    66064.177434      0.646441  1.462570e+07  3.982332e+07    102.070863   \n",
       "std     92130.136561      1.000185  3.091321e+07  1.170035e+08     31.381405   \n",
       "min         5.000000      0.000065  0.000000e+00  0.000000e+00      0.000000   \n",
       "25%     10596.250000      0.207583  0.000000e+00  0.000000e+00     90.000000   \n",
       "50%     20669.000000      0.383856  0.000000e+00  0.000000e+00     99.000000   \n",
       "75%     75610.000000      0.713817  1.500000e+07  2.400000e+07    111.000000   \n",
       "max    417859.000000     32.985763  4.250000e+08  2.781506e+09    900.000000   \n",
       "\n",
       "         vote_count  vote_average  release_year    budget_adj   revenue_adj  \n",
       "count  10866.000000  10866.000000  10866.000000  1.086600e+04  1.086600e+04  \n",
       "mean     217.389748      5.974922   2001.322658  1.755104e+07  5.136436e+07  \n",
       "std      575.619058      0.935142     12.812941  3.430616e+07  1.446325e+08  \n",
       "min       10.000000      1.500000   1960.000000  0.000000e+00  0.000000e+00  \n",
       "25%       17.000000      5.400000   1995.000000  0.000000e+00  0.000000e+00  \n",
       "50%       38.000000      6.000000   2006.000000  0.000000e+00  0.000000e+00  \n",
       "75%      145.750000      6.600000   2011.000000  2.085325e+07  3.369710e+07  \n",
       "max     9767.000000      9.200000   2015.000000  4.250000e+08  2.827124e+09  "
      ]
     },
     "execution_count": 9,
     "metadata": {},
     "output_type": "execute_result"
    }
   ],
   "source": [
    "df.describe() #statistical info of the numerical columns"
   ]
  },
  {
   "cell_type": "markdown",
   "metadata": {},
   "source": [
    "### Data Cleaning"
   ]
  },
  {
   "cell_type": "markdown",
   "metadata": {},
   "source": [
    "Remove unnecessary information that are not useful for analysis"
   ]
  },
  {
   "cell_type": "code",
   "execution_count": 10,
   "metadata": {},
   "outputs": [],
   "source": [
    "df.drop(labels = ['imdb_id','homepage','keywords', 'tagline', 'overview'],axis =1,inplace =True)"
   ]
  },
  {
   "cell_type": "markdown",
   "metadata": {},
   "source": [
    "Remove duplicated entries"
   ]
  },
  {
   "cell_type": "code",
   "execution_count": 11,
   "metadata": {},
   "outputs": [
    {
     "data": {
      "text/plain": [
       "1"
      ]
     },
     "execution_count": 11,
     "metadata": {},
     "output_type": "execute_result"
    }
   ],
   "source": [
    "df.duplicated().sum() #no. of the duplicated entries"
   ]
  },
  {
   "cell_type": "code",
   "execution_count": 12,
   "metadata": {},
   "outputs": [],
   "source": [
    "df.drop_duplicates(keep='first',inplace = True)"
   ]
  },
  {
   "cell_type": "code",
   "execution_count": 13,
   "metadata": {},
   "outputs": [
    {
     "data": {
      "text/plain": [
       "(10865, 16)"
      ]
     },
     "execution_count": 13,
     "metadata": {},
     "output_type": "execute_result"
    }
   ],
   "source": [
    "df.shape #shape after duplication removal"
   ]
  },
  {
   "cell_type": "markdown",
   "metadata": {},
   "source": [
    "Convert the release date to datetime and extract month and weekday"
   ]
  },
  {
   "cell_type": "code",
   "execution_count": 14,
   "metadata": {},
   "outputs": [],
   "source": [
    "df['release_date'] = pd.to_datetime(df['release_date'])"
   ]
  },
  {
   "cell_type": "code",
   "execution_count": 15,
   "metadata": {},
   "outputs": [],
   "source": [
    "df['release_month'] = df['release_date'].dt.month\n",
    "df['release_weekday'] = df['release_date'].dt.weekday_name"
   ]
  },
  {
   "cell_type": "code",
   "execution_count": 16,
   "metadata": {},
   "outputs": [],
   "source": [
    "df = df.drop(columns = ['release_date'],axis = 1)"
   ]
  },
  {
   "cell_type": "code",
   "execution_count": 17,
   "metadata": {},
   "outputs": [
    {
     "name": "stdout",
     "output_type": "stream",
     "text": [
      "<class 'pandas.core.frame.DataFrame'>\n",
      "Int64Index: 10865 entries, 0 to 10865\n",
      "Data columns (total 17 columns):\n",
      "id                      10865 non-null int64\n",
      "popularity              10865 non-null float64\n",
      "budget                  10865 non-null int64\n",
      "revenue                 10865 non-null int64\n",
      "original_title          10865 non-null object\n",
      "cast                    10789 non-null object\n",
      "director                10821 non-null object\n",
      "runtime                 10865 non-null int64\n",
      "genres                  10842 non-null object\n",
      "production_companies    9835 non-null object\n",
      "vote_count              10865 non-null int64\n",
      "vote_average            10865 non-null float64\n",
      "release_year            10865 non-null int64\n",
      "budget_adj              10865 non-null float64\n",
      "revenue_adj             10865 non-null float64\n",
      "release_month           10865 non-null int64\n",
      "release_weekday         10865 non-null object\n",
      "dtypes: float64(4), int64(7), object(6)\n",
      "memory usage: 1.5+ MB\n"
     ]
    }
   ],
   "source": [
    "df.info()"
   ]
  },
  {
   "cell_type": "markdown",
   "metadata": {},
   "source": [
    "Drop unnecessary missing values"
   ]
  },
  {
   "cell_type": "code",
   "execution_count": 18,
   "metadata": {},
   "outputs": [],
   "source": [
    "df.dropna(inplace = True)"
   ]
  },
  {
   "cell_type": "markdown",
   "metadata": {},
   "source": [
    "Dropping entries with runtime = 0"
   ]
  },
  {
   "cell_type": "code",
   "execution_count": 19,
   "metadata": {},
   "outputs": [],
   "source": [
    "null_runtime = df[df['runtime']==0]"
   ]
  },
  {
   "cell_type": "code",
   "execution_count": 20,
   "metadata": {},
   "outputs": [
    {
     "data": {
      "text/plain": [
       "Int64Index([92, 334, 445, 486, 1289, 1293, 3329, 3857, 4944, 5695, 5920, 5938,\n",
       "            6934],\n",
       "           dtype='int64')"
      ]
     },
     "execution_count": 20,
     "metadata": {},
     "output_type": "execute_result"
    }
   ],
   "source": [
    "null_runtime.index"
   ]
  },
  {
   "cell_type": "code",
   "execution_count": 21,
   "metadata": {},
   "outputs": [],
   "source": [
    "df.drop(labels=null_runtime.index, inplace = True)"
   ]
  },
  {
   "cell_type": "markdown",
   "metadata": {},
   "source": [
    "Replacing the zeros in Revenue and Budget attributes to np.NAN"
   ]
  },
  {
   "cell_type": "code",
   "execution_count": 22,
   "metadata": {},
   "outputs": [],
   "source": [
    "df['revenue'].replace(0, np.NAN, inplace=True)\n",
    "df['revenue_adj'].replace(0, np.NAN, inplace=True)\n",
    "df['budget'].replace(0, np.NAN, inplace=True)\n",
    "df['budget_adj'].replace(0, np.NAN, inplace=True)"
   ]
  },
  {
   "cell_type": "code",
   "execution_count": 23,
   "metadata": {},
   "outputs": [
    {
     "data": {
      "text/plain": [
       "id                         0\n",
       "release_year               0\n",
       "vote_average               0\n",
       "vote_count                 0\n",
       "production_companies       0\n",
       "release_month              0\n",
       "runtime                    0\n",
       "genres                     0\n",
       "cast                       0\n",
       "original_title             0\n",
       "popularity                 0\n",
       "director                   0\n",
       "release_weekday            0\n",
       "budget                  4739\n",
       "budget_adj              4739\n",
       "revenue                 5009\n",
       "revenue_adj             5009\n",
       "dtype: int64"
      ]
     },
     "execution_count": 23,
     "metadata": {},
     "output_type": "execute_result"
    }
   ],
   "source": [
    "df.isnull().sum().sort_values()"
   ]
  },
  {
   "cell_type": "markdown",
   "metadata": {},
   "source": [
    "Imputation of missing values for the Budget and Revenue attributes using using Multivariate Imputation by Chained Equation (MICE)"
   ]
  },
  {
   "cell_type": "code",
   "execution_count": 24,
   "metadata": {},
   "outputs": [],
   "source": [
    "df_temp = df.select_dtypes(exclude=['object']).copy() #copy numerical columns only"
   ]
  },
  {
   "cell_type": "code",
   "execution_count": 25,
   "metadata": {},
   "outputs": [
    {
     "name": "stdout",
     "output_type": "stream",
     "text": [
      "<class 'pandas.core.frame.DataFrame'>\n",
      "Int64Index: 9759 entries, 0 to 10865\n",
      "Data columns (total 11 columns):\n",
      "id               9759 non-null int64\n",
      "popularity       9759 non-null float64\n",
      "budget           5020 non-null float64\n",
      "revenue          4750 non-null float64\n",
      "runtime          9759 non-null int64\n",
      "vote_count       9759 non-null int64\n",
      "vote_average     9759 non-null float64\n",
      "release_year     9759 non-null int64\n",
      "budget_adj       5020 non-null float64\n",
      "revenue_adj      4750 non-null float64\n",
      "release_month    9759 non-null int64\n",
      "dtypes: float64(6), int64(5)\n",
      "memory usage: 914.9 KB\n"
     ]
    }
   ],
   "source": [
    "df_temp.info()"
   ]
  },
  {
   "cell_type": "code",
   "execution_count": 26,
   "metadata": {},
   "outputs": [],
   "source": [
    "df_temp = df_temp.astype('float64') #convert all int64 datatype to float64 for MICE"
   ]
  },
  {
   "cell_type": "code",
   "execution_count": 27,
   "metadata": {},
   "outputs": [],
   "source": [
    "##source: https://towardsdatascience.com/stop-using-mean-to-fill-missing-data-678c0d396e22\n",
    "imputed = mice(df_temp.values) #imputation of missing values"
   ]
  },
  {
   "cell_type": "code",
   "execution_count": 28,
   "metadata": {},
   "outputs": [],
   "source": [
    "budget = imputed[:, 2]\n",
    "revenue = imputed[:, 3]\n",
    "budget_adj = imputed[:, 8]\n",
    "revenue_adj = imputed[:, 9]"
   ]
  },
  {
   "cell_type": "markdown",
   "metadata": {},
   "source": [
    "Replacing negative values with zeroes"
   ]
  },
  {
   "cell_type": "code",
   "execution_count": 29,
   "metadata": {},
   "outputs": [],
   "source": [
    "df['budget'] = [0 if value < 0 else value for value in budget] \n",
    "df['revenue'] = [0 if value < 0 else value for value in revenue]\n",
    "df['budget_adj'] = [0 if value < 0 else value for value in budget_adj]\n",
    "df['revenue_adj'] = [0 if value < 0 else value for value in revenue_adj]"
   ]
  },
  {
   "cell_type": "markdown",
   "metadata": {},
   "source": [
    "Null values after imputation:"
   ]
  },
  {
   "cell_type": "code",
   "execution_count": 30,
   "metadata": {},
   "outputs": [
    {
     "data": {
      "text/plain": [
       "release_weekday         0\n",
       "runtime                 0\n",
       "popularity              0\n",
       "budget                  0\n",
       "revenue                 0\n",
       "original_title          0\n",
       "cast                    0\n",
       "director                0\n",
       "genres                  0\n",
       "release_month           0\n",
       "production_companies    0\n",
       "vote_count              0\n",
       "vote_average            0\n",
       "release_year            0\n",
       "budget_adj              0\n",
       "revenue_adj             0\n",
       "id                      0\n",
       "dtype: int64"
      ]
     },
     "execution_count": 30,
     "metadata": {},
     "output_type": "execute_result"
    }
   ],
   "source": [
    "df.isnull().sum().sort_values(ascending = False) #no. of null values in df"
   ]
  },
  {
   "cell_type": "markdown",
   "metadata": {},
   "source": [
    "Splitting the multiple values separated by pipe (|) characters to multiple columns"
   ]
  },
  {
   "cell_type": "code",
   "execution_count": 31,
   "metadata": {},
   "outputs": [],
   "source": [
    "movies = df.copy()"
   ]
  },
  {
   "cell_type": "code",
   "execution_count": 32,
   "metadata": {},
   "outputs": [],
   "source": [
    "cast = (movies['cast'].str.split('|', expand=True).rename(columns=lambda x: f\"cast_{x+1}\"))\n",
    "genres = (movies['genres'].str.split('|', expand=True).rename(columns=lambda x: f\"genres_{x+1}\"))\n",
    "director = (movies['director'].str.split('|', expand=True).rename(columns=lambda x: f\"director_{x+1}\"))\n",
    "production_companies = (movies['production_companies'].str.split('|', expand=True).rename(columns=lambda x: f\"production_companies_{x+1}\"))"
   ]
  },
  {
   "cell_type": "markdown",
   "metadata": {},
   "source": [
    "Splitting directors column yields 36 columns! We only need max. 5 directors for each movie so we remove the rest."
   ]
  },
  {
   "cell_type": "code",
   "execution_count": 33,
   "metadata": {},
   "outputs": [
    {
     "name": "stdout",
     "output_type": "stream",
     "text": [
      "<class 'pandas.core.frame.DataFrame'>\n",
      "Int64Index: 9759 entries, 0 to 10865\n",
      "Data columns (total 36 columns):\n",
      "director_1     9759 non-null object\n",
      "director_2     637 non-null object\n",
      "director_3     105 non-null object\n",
      "director_4     39 non-null object\n",
      "director_5     25 non-null object\n",
      "director_6     21 non-null object\n",
      "director_7     14 non-null object\n",
      "director_8     11 non-null object\n",
      "director_9     8 non-null object\n",
      "director_10    7 non-null object\n",
      "director_11    6 non-null object\n",
      "director_12    4 non-null object\n",
      "director_13    3 non-null object\n",
      "director_14    3 non-null object\n",
      "director_15    3 non-null object\n",
      "director_16    3 non-null object\n",
      "director_17    3 non-null object\n",
      "director_18    3 non-null object\n",
      "director_19    3 non-null object\n",
      "director_20    3 non-null object\n",
      "director_21    3 non-null object\n",
      "director_22    3 non-null object\n",
      "director_23    3 non-null object\n",
      "director_24    3 non-null object\n",
      "director_25    3 non-null object\n",
      "director_26    3 non-null object\n",
      "director_27    3 non-null object\n",
      "director_28    2 non-null object\n",
      "director_29    2 non-null object\n",
      "director_30    2 non-null object\n",
      "director_31    1 non-null object\n",
      "director_32    1 non-null object\n",
      "director_33    1 non-null object\n",
      "director_34    1 non-null object\n",
      "director_35    1 non-null object\n",
      "director_36    1 non-null object\n",
      "dtypes: object(36)\n",
      "memory usage: 2.8+ MB\n"
     ]
    }
   ],
   "source": [
    "director.info()"
   ]
  },
  {
   "cell_type": "code",
   "execution_count": 34,
   "metadata": {},
   "outputs": [],
   "source": [
    "director.drop(director.iloc[:, 5:], inplace = True, axis = 1)"
   ]
  },
  {
   "cell_type": "code",
   "execution_count": 35,
   "metadata": {},
   "outputs": [
    {
     "name": "stdout",
     "output_type": "stream",
     "text": [
      "<class 'pandas.core.frame.DataFrame'>\n",
      "Int64Index: 9759 entries, 0 to 10865\n",
      "Data columns (total 5 columns):\n",
      "director_1    9759 non-null object\n",
      "director_2    637 non-null object\n",
      "director_3    105 non-null object\n",
      "director_4    39 non-null object\n",
      "director_5    25 non-null object\n",
      "dtypes: object(5)\n",
      "memory usage: 457.5+ KB\n"
     ]
    }
   ],
   "source": [
    "director.info()"
   ]
  },
  {
   "cell_type": "markdown",
   "metadata": {},
   "source": [
    "We join the resulting dataframes together with the cleaned dataframe and we drop the unneeded columns"
   ]
  },
  {
   "cell_type": "code",
   "execution_count": 36,
   "metadata": {},
   "outputs": [],
   "source": [
    "df = movies.join([cast, genres, director, production_companies])"
   ]
  },
  {
   "cell_type": "code",
   "execution_count": 37,
   "metadata": {},
   "outputs": [
    {
     "name": "stdout",
     "output_type": "stream",
     "text": [
      "<class 'pandas.core.frame.DataFrame'>\n",
      "Int64Index: 9759 entries, 0 to 10865\n",
      "Data columns (total 37 columns):\n",
      "id                        9759 non-null int64\n",
      "popularity                9759 non-null float64\n",
      "budget                    9759 non-null float64\n",
      "revenue                   9759 non-null float64\n",
      "original_title            9759 non-null object\n",
      "cast                      9759 non-null object\n",
      "director                  9759 non-null object\n",
      "runtime                   9759 non-null int64\n",
      "genres                    9759 non-null object\n",
      "production_companies      9759 non-null object\n",
      "vote_count                9759 non-null int64\n",
      "vote_average              9759 non-null float64\n",
      "release_year              9759 non-null int64\n",
      "budget_adj                9759 non-null float64\n",
      "revenue_adj               9759 non-null float64\n",
      "release_month             9759 non-null int64\n",
      "release_weekday           9759 non-null object\n",
      "cast_1                    9759 non-null object\n",
      "cast_2                    9676 non-null object\n",
      "cast_3                    9623 non-null object\n",
      "cast_4                    9554 non-null object\n",
      "cast_5                    9349 non-null object\n",
      "genres_1                  9759 non-null object\n",
      "genres_2                  7805 non-null object\n",
      "genres_3                  4705 non-null object\n",
      "genres_4                  1848 non-null object\n",
      "genres_5                  507 non-null object\n",
      "director_1                9759 non-null object\n",
      "director_2                637 non-null object\n",
      "director_3                105 non-null object\n",
      "director_4                39 non-null object\n",
      "director_5                25 non-null object\n",
      "production_companies_1    9759 non-null object\n",
      "production_companies_2    6379 non-null object\n",
      "production_companies_3    3809 non-null object\n",
      "production_companies_4    2049 non-null object\n",
      "production_companies_5    1124 non-null object\n",
      "dtypes: float64(6), int64(5), object(26)\n",
      "memory usage: 3.1+ MB\n"
     ]
    }
   ],
   "source": [
    "df.info()"
   ]
  },
  {
   "cell_type": "markdown",
   "metadata": {},
   "source": [
    "We do not need the columns we already splitted anymore"
   ]
  },
  {
   "cell_type": "code",
   "execution_count": 38,
   "metadata": {},
   "outputs": [],
   "source": [
    "movies=df.drop(columns = ['cast', 'director', 'production_companies', 'genres'],axis = 1)"
   ]
  },
  {
   "cell_type": "markdown",
   "metadata": {},
   "source": [
    "We add the movie id to each entry to the dataframe resulted from splitting columns in case we need them"
   ]
  },
  {
   "cell_type": "code",
   "execution_count": 39,
   "metadata": {},
   "outputs": [],
   "source": [
    "cast['id'] = movies['id']\n",
    "genres['id'] = movies['id']\n",
    "director['id'] = movies['id']\n",
    "production_companies['id'] = movies['id']"
   ]
  },
  {
   "cell_type": "markdown",
   "metadata": {},
   "source": [
    "Now we have a clean version of the dataframe and we can save it to a .csv file as a backup"
   ]
  },
  {
   "cell_type": "code",
   "execution_count": 40,
   "metadata": {},
   "outputs": [
    {
     "name": "stdout",
     "output_type": "stream",
     "text": [
      "<class 'pandas.core.frame.DataFrame'>\n",
      "Int64Index: 9759 entries, 0 to 10865\n",
      "Data columns (total 33 columns):\n",
      "id                        9759 non-null int64\n",
      "popularity                9759 non-null float64\n",
      "budget                    9759 non-null float64\n",
      "revenue                   9759 non-null float64\n",
      "original_title            9759 non-null object\n",
      "runtime                   9759 non-null int64\n",
      "vote_count                9759 non-null int64\n",
      "vote_average              9759 non-null float64\n",
      "release_year              9759 non-null int64\n",
      "budget_adj                9759 non-null float64\n",
      "revenue_adj               9759 non-null float64\n",
      "release_month             9759 non-null int64\n",
      "release_weekday           9759 non-null object\n",
      "cast_1                    9759 non-null object\n",
      "cast_2                    9676 non-null object\n",
      "cast_3                    9623 non-null object\n",
      "cast_4                    9554 non-null object\n",
      "cast_5                    9349 non-null object\n",
      "genres_1                  9759 non-null object\n",
      "genres_2                  7805 non-null object\n",
      "genres_3                  4705 non-null object\n",
      "genres_4                  1848 non-null object\n",
      "genres_5                  507 non-null object\n",
      "director_1                9759 non-null object\n",
      "director_2                637 non-null object\n",
      "director_3                105 non-null object\n",
      "director_4                39 non-null object\n",
      "director_5                25 non-null object\n",
      "production_companies_1    9759 non-null object\n",
      "production_companies_2    6379 non-null object\n",
      "production_companies_3    3809 non-null object\n",
      "production_companies_4    2049 non-null object\n",
      "production_companies_5    1124 non-null object\n",
      "dtypes: float64(6), int64(5), object(22)\n",
      "memory usage: 2.8+ MB\n"
     ]
    }
   ],
   "source": [
    "movies.info()"
   ]
  },
  {
   "cell_type": "code",
   "execution_count": 41,
   "metadata": {},
   "outputs": [],
   "source": [
    "movies.to_csv('clean_movies.csv',index = False)"
   ]
  },
  {
   "cell_type": "markdown",
   "metadata": {},
   "source": [
    "<a id='eda'></a>\n",
    "## Exploratory Data Analysis\n",
    "\n",
    "### What attributes have the highest correlation between each other?"
   ]
  },
  {
   "cell_type": "markdown",
   "metadata": {},
   "source": [
    "First we need to investigate the correlation between the attributes"
   ]
  },
  {
   "cell_type": "code",
   "execution_count": 42,
   "metadata": {},
   "outputs": [],
   "source": [
    "df_corr = movies.select_dtypes(exclude=['object'])\n",
    "corr = df_corr.corr()"
   ]
  },
  {
   "cell_type": "code",
   "execution_count": 179,
   "metadata": {
    "scrolled": false
   },
   "outputs": [
    {
     "data": {
      "text/plain": [
       "<matplotlib.axes._subplots.AxesSubplot at 0x7f2c62846400>"
      ]
     },
     "execution_count": 179,
     "metadata": {},
     "output_type": "execute_result"
    },
    {
     "data": {
      "image/png": "[encoded data removed]",
      "text/plain": [
       "<matplotlib.figure.Figure at 0x7f2c62815710>"
      ]
     },
     "metadata": {
      "needs_background": "light"
     },
     "output_type": "display_data"
    }
   ],
   "source": [
    "f, ax = plt.subplots(figsize=(10, 8))\n",
    "sns.heatmap(corr,vmin=-1, vmax=1, center=0, cmap=\"coolwarm\", annot=True, fmt='.2f')"
   ]
  },
  {
   "cell_type": "markdown",
   "metadata": {},
   "source": [
    "High value in positive (red) or in negative (blue) indicate a high correlation. The diagonal '1's indicate a correlation between the attribute and itself. Low value or close to zero (white) indicate a low correlation."
   ]
  },
  {
   "cell_type": "markdown",
   "metadata": {},
   "source": [
    "We list the 15 highest correlated attributes"
   ]
  },
  {
   "cell_type": "code",
   "execution_count": 44,
   "metadata": {},
   "outputs": [
    {
     "name": "stdout",
     "output_type": "stream",
     "text": [
      "Top Absolute Correlations\n",
      "budget      budget_adj      0.951189\n",
      "revenue     revenue_adj     0.893217\n",
      "popularity  vote_count      0.803034\n",
      "revenue     vote_count      0.781627\n",
      "budget      revenue         0.713050\n",
      "revenue     budget_adj      0.683752\n",
      "vote_count  revenue_adj     0.670677\n",
      "popularity  revenue         0.655374\n",
      "budget_adj  revenue_adj     0.601862\n",
      "budget      vote_count      0.583249\n",
      "popularity  revenue_adj     0.572089\n",
      "budget      revenue_adj     0.542001\n",
      "vote_count  budget_adj      0.522577\n",
      "id          release_year    0.508907\n",
      "popularity  budget          0.490916\n",
      "dtype: float64\n"
     ]
    }
   ],
   "source": [
    "##source: https://stackoverflow.com/questions/17778394/list-highest-correlation-pairs-from-a-large-correlation-matrix-in-pandas\n",
    "\n",
    "def get_redundant_pairs(df):\n",
    "    '''Get diagonal and lower triangular pairs of correlation matrix'''\n",
    "    pairs_to_drop = set()\n",
    "    cols = df.columns\n",
    "    for i in range(0, df.shape[1]):\n",
    "        for j in range(0, i+1):\n",
    "            pairs_to_drop.add((cols[i], cols[j]))\n",
    "    return pairs_to_drop\n",
    "\n",
    "def get_top_abs_correlations(df, n=5):\n",
    "    au_corr = df.corr().abs().unstack()\n",
    "    labels_to_drop = get_redundant_pairs(df)\n",
    "    au_corr = au_corr.drop(labels=labels_to_drop).sort_values(ascending=False)\n",
    "    return au_corr[0:n]\n",
    "\n",
    "print(\"Top Absolute Correlations\")\n",
    "print(get_top_abs_correlations(df_corr, 15))"
   ]
  },
  {
   "cell_type": "markdown",
   "metadata": {},
   "source": [
    "Comment on the results: <br>\n",
    "We can see that the highest correlations are budget-budget_adj and revenue-revenue_adj which is expected since they are dependent on each other. However, remarkably high correlations are popularity-vote_count, revenue-vote_count, and budget-revenue."
   ]
  },
  {
   "cell_type": "markdown",
   "metadata": {},
   "source": [
    "### What genre was the most released each year? And how many movies were released under each genre?"
   ]
  },
  {
   "cell_type": "markdown",
   "metadata": {},
   "source": [
    "We create a copy of columns we need from the clean dataset"
   ]
  },
  {
   "cell_type": "code",
   "execution_count": 45,
   "metadata": {},
   "outputs": [],
   "source": [
    "genre_years = movies[['release_year', 'id']].copy()"
   ]
  },
  {
   "cell_type": "markdown",
   "metadata": {},
   "source": [
    "We join the years dataframe and the genres dataframe on 'id'"
   ]
  },
  {
   "cell_type": "code",
   "execution_count": 46,
   "metadata": {},
   "outputs": [],
   "source": [
    "df_genres_dates = pd.merge(genres, genre_years, how=\"inner\", on='id')"
   ]
  },
  {
   "cell_type": "code",
   "execution_count": 47,
   "metadata": {},
   "outputs": [
    {
     "name": "stdout",
     "output_type": "stream",
     "text": [
      "<class 'pandas.core.frame.DataFrame'>\n",
      "Int64Index: 9759 entries, 0 to 9758\n",
      "Data columns (total 7 columns):\n",
      "genres_1        9759 non-null object\n",
      "genres_2        7805 non-null object\n",
      "genres_3        4705 non-null object\n",
      "genres_4        1848 non-null object\n",
      "genres_5        507 non-null object\n",
      "id              9759 non-null int64\n",
      "release_year    9759 non-null int64\n",
      "dtypes: int64(2), object(5)\n",
      "memory usage: 609.9+ KB\n"
     ]
    }
   ],
   "source": [
    "df_genres_dates.info()"
   ]
  },
  {
   "cell_type": "markdown",
   "metadata": {},
   "source": [
    "We create a crosstab on all the 5 genres of each movie and group by the release year"
   ]
  },
  {
   "cell_type": "code",
   "execution_count": 48,
   "metadata": {},
   "outputs": [],
   "source": [
    "##source: https://stackoverflow.com/questions/55706391/pandas-crosstab-on-multiple-columns-then-groupby\n",
    "cols = ['genres_1', 'genres_2', 'genres_3', 'genres_4', 'genres_5']\n",
    "df1 = (df_genres_dates.melt(id_vars='release_year', value_vars=cols)\n",
    "         .groupby([pd.Grouper(key='release_year'),'value'])\n",
    "         .size()\n",
    "         .unstack(fill_value=0))"
   ]
  },
  {
   "cell_type": "code",
   "execution_count": 49,
   "metadata": {},
   "outputs": [],
   "source": [
    "df1 = df1.sort_values(by='release_year', ascending=True) #sort by year in ascending order"
   ]
  },
  {
   "cell_type": "markdown",
   "metadata": {},
   "source": [
    "Now we have the number of movies released each year under each genre of movies"
   ]
  },
  {
   "cell_type": "code",
   "execution_count": 50,
   "metadata": {},
   "outputs": [
    {
     "data": {
      "text/html": [
       "<div>\n",
       "<style scoped>\n",
       "    .dataframe tbody tr th:only-of-type {\n",
       "        vertical-align: middle;\n",
       "    }\n",
       "\n",
       "    .dataframe tbody tr th {\n",
       "        vertical-align: top;\n",
       "    }\n",
       "\n",
       "    .dataframe thead th {\n",
       "        text-align: right;\n",
       "    }\n",
       "</style>\n",
       "<table border=\"1\" class=\"dataframe\">\n",
       "  <thead>\n",
       "    <tr style=\"text-align: right;\">\n",
       "      <th>value</th>\n",
       "      <th>Action</th>\n",
       "      <th>Adventure</th>\n",
       "      <th>Animation</th>\n",
       "      <th>Comedy</th>\n",
       "      <th>Crime</th>\n",
       "      <th>Documentary</th>\n",
       "      <th>Drama</th>\n",
       "      <th>Family</th>\n",
       "      <th>Fantasy</th>\n",
       "      <th>Foreign</th>\n",
       "      <th>History</th>\n",
       "      <th>Horror</th>\n",
       "      <th>Music</th>\n",
       "      <th>Mystery</th>\n",
       "      <th>Romance</th>\n",
       "      <th>Science Fiction</th>\n",
       "      <th>TV Movie</th>\n",
       "      <th>Thriller</th>\n",
       "      <th>War</th>\n",
       "      <th>Western</th>\n",
       "    </tr>\n",
       "    <tr>\n",
       "      <th>release_year</th>\n",
       "      <th></th>\n",
       "      <th></th>\n",
       "      <th></th>\n",
       "      <th></th>\n",
       "      <th></th>\n",
       "      <th></th>\n",
       "      <th></th>\n",
       "      <th></th>\n",
       "      <th></th>\n",
       "      <th></th>\n",
       "      <th></th>\n",
       "      <th></th>\n",
       "      <th></th>\n",
       "      <th></th>\n",
       "      <th></th>\n",
       "      <th></th>\n",
       "      <th></th>\n",
       "      <th></th>\n",
       "      <th></th>\n",
       "      <th></th>\n",
       "    </tr>\n",
       "  </thead>\n",
       "  <tbody>\n",
       "    <tr>\n",
       "      <th>1960</th>\n",
       "      <td>8</td>\n",
       "      <td>5</td>\n",
       "      <td>0</td>\n",
       "      <td>8</td>\n",
       "      <td>2</td>\n",
       "      <td>0</td>\n",
       "      <td>13</td>\n",
       "      <td>3</td>\n",
       "      <td>2</td>\n",
       "      <td>1</td>\n",
       "      <td>5</td>\n",
       "      <td>7</td>\n",
       "      <td>1</td>\n",
       "      <td>0</td>\n",
       "      <td>6</td>\n",
       "      <td>3</td>\n",
       "      <td>0</td>\n",
       "      <td>6</td>\n",
       "      <td>2</td>\n",
       "      <td>6</td>\n",
       "    </tr>\n",
       "    <tr>\n",
       "      <th>1961</th>\n",
       "      <td>7</td>\n",
       "      <td>6</td>\n",
       "      <td>1</td>\n",
       "      <td>10</td>\n",
       "      <td>2</td>\n",
       "      <td>0</td>\n",
       "      <td>16</td>\n",
       "      <td>4</td>\n",
       "      <td>1</td>\n",
       "      <td>1</td>\n",
       "      <td>3</td>\n",
       "      <td>3</td>\n",
       "      <td>2</td>\n",
       "      <td>1</td>\n",
       "      <td>7</td>\n",
       "      <td>3</td>\n",
       "      <td>0</td>\n",
       "      <td>0</td>\n",
       "      <td>2</td>\n",
       "      <td>3</td>\n",
       "    </tr>\n",
       "    <tr>\n",
       "      <th>1962</th>\n",
       "      <td>6</td>\n",
       "      <td>7</td>\n",
       "      <td>0</td>\n",
       "      <td>5</td>\n",
       "      <td>3</td>\n",
       "      <td>0</td>\n",
       "      <td>19</td>\n",
       "      <td>2</td>\n",
       "      <td>1</td>\n",
       "      <td>1</td>\n",
       "      <td>3</td>\n",
       "      <td>5</td>\n",
       "      <td>1</td>\n",
       "      <td>4</td>\n",
       "      <td>5</td>\n",
       "      <td>2</td>\n",
       "      <td>0</td>\n",
       "      <td>7</td>\n",
       "      <td>2</td>\n",
       "      <td>3</td>\n",
       "    </tr>\n",
       "    <tr>\n",
       "      <th>1963</th>\n",
       "      <td>4</td>\n",
       "      <td>7</td>\n",
       "      <td>1</td>\n",
       "      <td>13</td>\n",
       "      <td>4</td>\n",
       "      <td>0</td>\n",
       "      <td>13</td>\n",
       "      <td>3</td>\n",
       "      <td>2</td>\n",
       "      <td>2</td>\n",
       "      <td>4</td>\n",
       "      <td>9</td>\n",
       "      <td>0</td>\n",
       "      <td>6</td>\n",
       "      <td>8</td>\n",
       "      <td>2</td>\n",
       "      <td>0</td>\n",
       "      <td>10</td>\n",
       "      <td>1</td>\n",
       "      <td>2</td>\n",
       "    </tr>\n",
       "    <tr>\n",
       "      <th>1964</th>\n",
       "      <td>5</td>\n",
       "      <td>5</td>\n",
       "      <td>2</td>\n",
       "      <td>16</td>\n",
       "      <td>10</td>\n",
       "      <td>0</td>\n",
       "      <td>20</td>\n",
       "      <td>4</td>\n",
       "      <td>3</td>\n",
       "      <td>1</td>\n",
       "      <td>3</td>\n",
       "      <td>6</td>\n",
       "      <td>5</td>\n",
       "      <td>4</td>\n",
       "      <td>9</td>\n",
       "      <td>4</td>\n",
       "      <td>0</td>\n",
       "      <td>9</td>\n",
       "      <td>3</td>\n",
       "      <td>1</td>\n",
       "    </tr>\n",
       "    <tr>\n",
       "      <th>1965</th>\n",
       "      <td>9</td>\n",
       "      <td>6</td>\n",
       "      <td>1</td>\n",
       "      <td>7</td>\n",
       "      <td>2</td>\n",
       "      <td>0</td>\n",
       "      <td>19</td>\n",
       "      <td>3</td>\n",
       "      <td>0</td>\n",
       "      <td>0</td>\n",
       "      <td>4</td>\n",
       "      <td>4</td>\n",
       "      <td>2</td>\n",
       "      <td>3</td>\n",
       "      <td>5</td>\n",
       "      <td>1</td>\n",
       "      <td>1</td>\n",
       "      <td>10</td>\n",
       "      <td>8</td>\n",
       "      <td>4</td>\n",
       "    </tr>\n",
       "    <tr>\n",
       "      <th>1966</th>\n",
       "      <td>14</td>\n",
       "      <td>11</td>\n",
       "      <td>2</td>\n",
       "      <td>15</td>\n",
       "      <td>5</td>\n",
       "      <td>1</td>\n",
       "      <td>15</td>\n",
       "      <td>6</td>\n",
       "      <td>2</td>\n",
       "      <td>2</td>\n",
       "      <td>2</td>\n",
       "      <td>3</td>\n",
       "      <td>0</td>\n",
       "      <td>6</td>\n",
       "      <td>5</td>\n",
       "      <td>6</td>\n",
       "      <td>0</td>\n",
       "      <td>8</td>\n",
       "      <td>4</td>\n",
       "      <td>7</td>\n",
       "    </tr>\n",
       "    <tr>\n",
       "      <th>1967</th>\n",
       "      <td>6</td>\n",
       "      <td>6</td>\n",
       "      <td>1</td>\n",
       "      <td>16</td>\n",
       "      <td>7</td>\n",
       "      <td>1</td>\n",
       "      <td>16</td>\n",
       "      <td>3</td>\n",
       "      <td>3</td>\n",
       "      <td>0</td>\n",
       "      <td>0</td>\n",
       "      <td>4</td>\n",
       "      <td>4</td>\n",
       "      <td>3</td>\n",
       "      <td>11</td>\n",
       "      <td>3</td>\n",
       "      <td>0</td>\n",
       "      <td>5</td>\n",
       "      <td>1</td>\n",
       "      <td>2</td>\n",
       "    </tr>\n",
       "    <tr>\n",
       "      <th>1968</th>\n",
       "      <td>6</td>\n",
       "      <td>5</td>\n",
       "      <td>3</td>\n",
       "      <td>8</td>\n",
       "      <td>5</td>\n",
       "      <td>0</td>\n",
       "      <td>19</td>\n",
       "      <td>5</td>\n",
       "      <td>5</td>\n",
       "      <td>0</td>\n",
       "      <td>3</td>\n",
       "      <td>4</td>\n",
       "      <td>3</td>\n",
       "      <td>4</td>\n",
       "      <td>6</td>\n",
       "      <td>4</td>\n",
       "      <td>0</td>\n",
       "      <td>5</td>\n",
       "      <td>4</td>\n",
       "      <td>1</td>\n",
       "    </tr>\n",
       "    <tr>\n",
       "      <th>1969</th>\n",
       "      <td>10</td>\n",
       "      <td>5</td>\n",
       "      <td>2</td>\n",
       "      <td>10</td>\n",
       "      <td>3</td>\n",
       "      <td>0</td>\n",
       "      <td>13</td>\n",
       "      <td>4</td>\n",
       "      <td>2</td>\n",
       "      <td>0</td>\n",
       "      <td>3</td>\n",
       "      <td>1</td>\n",
       "      <td>2</td>\n",
       "      <td>1</td>\n",
       "      <td>3</td>\n",
       "      <td>3</td>\n",
       "      <td>1</td>\n",
       "      <td>3</td>\n",
       "      <td>3</td>\n",
       "      <td>7</td>\n",
       "    </tr>\n",
       "    <tr>\n",
       "      <th>1970</th>\n",
       "      <td>11</td>\n",
       "      <td>6</td>\n",
       "      <td>2</td>\n",
       "      <td>12</td>\n",
       "      <td>4</td>\n",
       "      <td>3</td>\n",
       "      <td>19</td>\n",
       "      <td>3</td>\n",
       "      <td>3</td>\n",
       "      <td>1</td>\n",
       "      <td>3</td>\n",
       "      <td>5</td>\n",
       "      <td>4</td>\n",
       "      <td>3</td>\n",
       "      <td>6</td>\n",
       "      <td>3</td>\n",
       "      <td>1</td>\n",
       "      <td>5</td>\n",
       "      <td>5</td>\n",
       "      <td>8</td>\n",
       "    </tr>\n",
       "    <tr>\n",
       "      <th>1971</th>\n",
       "      <td>11</td>\n",
       "      <td>5</td>\n",
       "      <td>1</td>\n",
       "      <td>9</td>\n",
       "      <td>10</td>\n",
       "      <td>0</td>\n",
       "      <td>30</td>\n",
       "      <td>2</td>\n",
       "      <td>2</td>\n",
       "      <td>0</td>\n",
       "      <td>3</td>\n",
       "      <td>7</td>\n",
       "      <td>1</td>\n",
       "      <td>6</td>\n",
       "      <td>9</td>\n",
       "      <td>6</td>\n",
       "      <td>1</td>\n",
       "      <td>17</td>\n",
       "      <td>4</td>\n",
       "      <td>5</td>\n",
       "    </tr>\n",
       "    <tr>\n",
       "      <th>1972</th>\n",
       "      <td>9</td>\n",
       "      <td>5</td>\n",
       "      <td>1</td>\n",
       "      <td>13</td>\n",
       "      <td>6</td>\n",
       "      <td>0</td>\n",
       "      <td>16</td>\n",
       "      <td>1</td>\n",
       "      <td>1</td>\n",
       "      <td>0</td>\n",
       "      <td>0</td>\n",
       "      <td>8</td>\n",
       "      <td>1</td>\n",
       "      <td>4</td>\n",
       "      <td>5</td>\n",
       "      <td>4</td>\n",
       "      <td>0</td>\n",
       "      <td>10</td>\n",
       "      <td>0</td>\n",
       "      <td>5</td>\n",
       "    </tr>\n",
       "    <tr>\n",
       "      <th>1973</th>\n",
       "      <td>15</td>\n",
       "      <td>5</td>\n",
       "      <td>3</td>\n",
       "      <td>8</td>\n",
       "      <td>17</td>\n",
       "      <td>1</td>\n",
       "      <td>31</td>\n",
       "      <td>4</td>\n",
       "      <td>1</td>\n",
       "      <td>0</td>\n",
       "      <td>2</td>\n",
       "      <td>15</td>\n",
       "      <td>1</td>\n",
       "      <td>7</td>\n",
       "      <td>3</td>\n",
       "      <td>6</td>\n",
       "      <td>1</td>\n",
       "      <td>16</td>\n",
       "      <td>0</td>\n",
       "      <td>4</td>\n",
       "    </tr>\n",
       "    <tr>\n",
       "      <th>1974</th>\n",
       "      <td>14</td>\n",
       "      <td>7</td>\n",
       "      <td>1</td>\n",
       "      <td>11</td>\n",
       "      <td>15</td>\n",
       "      <td>1</td>\n",
       "      <td>21</td>\n",
       "      <td>3</td>\n",
       "      <td>3</td>\n",
       "      <td>0</td>\n",
       "      <td>1</td>\n",
       "      <td>8</td>\n",
       "      <td>1</td>\n",
       "      <td>5</td>\n",
       "      <td>3</td>\n",
       "      <td>5</td>\n",
       "      <td>1</td>\n",
       "      <td>20</td>\n",
       "      <td>1</td>\n",
       "      <td>2</td>\n",
       "    </tr>\n",
       "    <tr>\n",
       "      <th>1975</th>\n",
       "      <td>9</td>\n",
       "      <td>8</td>\n",
       "      <td>1</td>\n",
       "      <td>11</td>\n",
       "      <td>6</td>\n",
       "      <td>1</td>\n",
       "      <td>17</td>\n",
       "      <td>2</td>\n",
       "      <td>4</td>\n",
       "      <td>0</td>\n",
       "      <td>3</td>\n",
       "      <td>8</td>\n",
       "      <td>3</td>\n",
       "      <td>8</td>\n",
       "      <td>2</td>\n",
       "      <td>10</td>\n",
       "      <td>0</td>\n",
       "      <td>12</td>\n",
       "      <td>2</td>\n",
       "      <td>3</td>\n",
       "    </tr>\n",
       "    <tr>\n",
       "      <th>1976</th>\n",
       "      <td>13</td>\n",
       "      <td>6</td>\n",
       "      <td>0</td>\n",
       "      <td>11</td>\n",
       "      <td>8</td>\n",
       "      <td>1</td>\n",
       "      <td>22</td>\n",
       "      <td>3</td>\n",
       "      <td>2</td>\n",
       "      <td>1</td>\n",
       "      <td>2</td>\n",
       "      <td>9</td>\n",
       "      <td>3</td>\n",
       "      <td>7</td>\n",
       "      <td>5</td>\n",
       "      <td>5</td>\n",
       "      <td>1</td>\n",
       "      <td>17</td>\n",
       "      <td>2</td>\n",
       "      <td>3</td>\n",
       "    </tr>\n",
       "    <tr>\n",
       "      <th>1977</th>\n",
       "      <td>14</td>\n",
       "      <td>15</td>\n",
       "      <td>5</td>\n",
       "      <td>10</td>\n",
       "      <td>2</td>\n",
       "      <td>1</td>\n",
       "      <td>23</td>\n",
       "      <td>7</td>\n",
       "      <td>9</td>\n",
       "      <td>0</td>\n",
       "      <td>4</td>\n",
       "      <td>14</td>\n",
       "      <td>3</td>\n",
       "      <td>5</td>\n",
       "      <td>4</td>\n",
       "      <td>10</td>\n",
       "      <td>0</td>\n",
       "      <td>12</td>\n",
       "      <td>4</td>\n",
       "      <td>1</td>\n",
       "    </tr>\n",
       "    <tr>\n",
       "      <th>1978</th>\n",
       "      <td>15</td>\n",
       "      <td>10</td>\n",
       "      <td>2</td>\n",
       "      <td>13</td>\n",
       "      <td>6</td>\n",
       "      <td>2</td>\n",
       "      <td>28</td>\n",
       "      <td>5</td>\n",
       "      <td>4</td>\n",
       "      <td>1</td>\n",
       "      <td>2</td>\n",
       "      <td>19</td>\n",
       "      <td>3</td>\n",
       "      <td>7</td>\n",
       "      <td>5</td>\n",
       "      <td>15</td>\n",
       "      <td>3</td>\n",
       "      <td>22</td>\n",
       "      <td>4</td>\n",
       "      <td>1</td>\n",
       "    </tr>\n",
       "    <tr>\n",
       "      <th>1979</th>\n",
       "      <td>8</td>\n",
       "      <td>8</td>\n",
       "      <td>1</td>\n",
       "      <td>18</td>\n",
       "      <td>8</td>\n",
       "      <td>0</td>\n",
       "      <td>30</td>\n",
       "      <td>5</td>\n",
       "      <td>0</td>\n",
       "      <td>0</td>\n",
       "      <td>3</td>\n",
       "      <td>11</td>\n",
       "      <td>4</td>\n",
       "      <td>4</td>\n",
       "      <td>8</td>\n",
       "      <td>10</td>\n",
       "      <td>0</td>\n",
       "      <td>16</td>\n",
       "      <td>3</td>\n",
       "      <td>4</td>\n",
       "    </tr>\n",
       "    <tr>\n",
       "      <th>1980</th>\n",
       "      <td>23</td>\n",
       "      <td>13</td>\n",
       "      <td>0</td>\n",
       "      <td>20</td>\n",
       "      <td>8</td>\n",
       "      <td>0</td>\n",
       "      <td>32</td>\n",
       "      <td>4</td>\n",
       "      <td>6</td>\n",
       "      <td>2</td>\n",
       "      <td>5</td>\n",
       "      <td>16</td>\n",
       "      <td>4</td>\n",
       "      <td>8</td>\n",
       "      <td>9</td>\n",
       "      <td>11</td>\n",
       "      <td>1</td>\n",
       "      <td>24</td>\n",
       "      <td>2</td>\n",
       "      <td>5</td>\n",
       "    </tr>\n",
       "    <tr>\n",
       "      <th>1981</th>\n",
       "      <td>15</td>\n",
       "      <td>12</td>\n",
       "      <td>3</td>\n",
       "      <td>19</td>\n",
       "      <td>10</td>\n",
       "      <td>1</td>\n",
       "      <td>32</td>\n",
       "      <td>5</td>\n",
       "      <td>3</td>\n",
       "      <td>0</td>\n",
       "      <td>4</td>\n",
       "      <td>24</td>\n",
       "      <td>3</td>\n",
       "      <td>10</td>\n",
       "      <td>10</td>\n",
       "      <td>9</td>\n",
       "      <td>1</td>\n",
       "      <td>26</td>\n",
       "      <td>1</td>\n",
       "      <td>0</td>\n",
       "    </tr>\n",
       "    <tr>\n",
       "      <th>1982</th>\n",
       "      <td>16</td>\n",
       "      <td>10</td>\n",
       "      <td>6</td>\n",
       "      <td>28</td>\n",
       "      <td>9</td>\n",
       "      <td>1</td>\n",
       "      <td>33</td>\n",
       "      <td>8</td>\n",
       "      <td>13</td>\n",
       "      <td>2</td>\n",
       "      <td>2</td>\n",
       "      <td>20</td>\n",
       "      <td>6</td>\n",
       "      <td>10</td>\n",
       "      <td>12</td>\n",
       "      <td>13</td>\n",
       "      <td>1</td>\n",
       "      <td>17</td>\n",
       "      <td>2</td>\n",
       "      <td>2</td>\n",
       "    </tr>\n",
       "    <tr>\n",
       "      <th>1983</th>\n",
       "      <td>21</td>\n",
       "      <td>14</td>\n",
       "      <td>3</td>\n",
       "      <td>27</td>\n",
       "      <td>11</td>\n",
       "      <td>0</td>\n",
       "      <td>34</td>\n",
       "      <td>3</td>\n",
       "      <td>10</td>\n",
       "      <td>1</td>\n",
       "      <td>1</td>\n",
       "      <td>12</td>\n",
       "      <td>4</td>\n",
       "      <td>5</td>\n",
       "      <td>14</td>\n",
       "      <td>16</td>\n",
       "      <td>1</td>\n",
       "      <td>24</td>\n",
       "      <td>1</td>\n",
       "      <td>1</td>\n",
       "    </tr>\n",
       "    <tr>\n",
       "      <th>1984</th>\n",
       "      <td>32</td>\n",
       "      <td>21</td>\n",
       "      <td>0</td>\n",
       "      <td>37</td>\n",
       "      <td>14</td>\n",
       "      <td>1</td>\n",
       "      <td>37</td>\n",
       "      <td>9</td>\n",
       "      <td>15</td>\n",
       "      <td>0</td>\n",
       "      <td>5</td>\n",
       "      <td>18</td>\n",
       "      <td>11</td>\n",
       "      <td>4</td>\n",
       "      <td>19</td>\n",
       "      <td>24</td>\n",
       "      <td>1</td>\n",
       "      <td>22</td>\n",
       "      <td>3</td>\n",
       "      <td>0</td>\n",
       "    </tr>\n",
       "    <tr>\n",
       "      <th>1985</th>\n",
       "      <td>28</td>\n",
       "      <td>28</td>\n",
       "      <td>2</td>\n",
       "      <td>50</td>\n",
       "      <td>14</td>\n",
       "      <td>1</td>\n",
       "      <td>38</td>\n",
       "      <td>11</td>\n",
       "      <td>13</td>\n",
       "      <td>0</td>\n",
       "      <td>0</td>\n",
       "      <td>14</td>\n",
       "      <td>2</td>\n",
       "      <td>3</td>\n",
       "      <td>21</td>\n",
       "      <td>17</td>\n",
       "      <td>0</td>\n",
       "      <td>24</td>\n",
       "      <td>2</td>\n",
       "      <td>2</td>\n",
       "    </tr>\n",
       "    <tr>\n",
       "      <th>1986</th>\n",
       "      <td>29</td>\n",
       "      <td>17</td>\n",
       "      <td>5</td>\n",
       "      <td>47</td>\n",
       "      <td>18</td>\n",
       "      <td>0</td>\n",
       "      <td>48</td>\n",
       "      <td>11</td>\n",
       "      <td>9</td>\n",
       "      <td>0</td>\n",
       "      <td>3</td>\n",
       "      <td>25</td>\n",
       "      <td>5</td>\n",
       "      <td>7</td>\n",
       "      <td>24</td>\n",
       "      <td>18</td>\n",
       "      <td>0</td>\n",
       "      <td>22</td>\n",
       "      <td>4</td>\n",
       "      <td>1</td>\n",
       "    </tr>\n",
       "    <tr>\n",
       "      <th>1987</th>\n",
       "      <td>28</td>\n",
       "      <td>16</td>\n",
       "      <td>2</td>\n",
       "      <td>53</td>\n",
       "      <td>21</td>\n",
       "      <td>0</td>\n",
       "      <td>47</td>\n",
       "      <td>13</td>\n",
       "      <td>17</td>\n",
       "      <td>0</td>\n",
       "      <td>3</td>\n",
       "      <td>23</td>\n",
       "      <td>3</td>\n",
       "      <td>7</td>\n",
       "      <td>21</td>\n",
       "      <td>17</td>\n",
       "      <td>2</td>\n",
       "      <td>27</td>\n",
       "      <td>6</td>\n",
       "      <td>1</td>\n",
       "    </tr>\n",
       "    <tr>\n",
       "      <th>1988</th>\n",
       "      <td>31</td>\n",
       "      <td>14</td>\n",
       "      <td>4</td>\n",
       "      <td>65</td>\n",
       "      <td>21</td>\n",
       "      <td>1</td>\n",
       "      <td>49</td>\n",
       "      <td>14</td>\n",
       "      <td>14</td>\n",
       "      <td>1</td>\n",
       "      <td>3</td>\n",
       "      <td>34</td>\n",
       "      <td>4</td>\n",
       "      <td>7</td>\n",
       "      <td>19</td>\n",
       "      <td>18</td>\n",
       "      <td>1</td>\n",
       "      <td>32</td>\n",
       "      <td>6</td>\n",
       "      <td>0</td>\n",
       "    </tr>\n",
       "    <tr>\n",
       "      <th>1989</th>\n",
       "      <td>38</td>\n",
       "      <td>23</td>\n",
       "      <td>3</td>\n",
       "      <td>59</td>\n",
       "      <td>24</td>\n",
       "      <td>2</td>\n",
       "      <td>53</td>\n",
       "      <td>15</td>\n",
       "      <td>14</td>\n",
       "      <td>1</td>\n",
       "      <td>4</td>\n",
       "      <td>25</td>\n",
       "      <td>2</td>\n",
       "      <td>8</td>\n",
       "      <td>22</td>\n",
       "      <td>21</td>\n",
       "      <td>0</td>\n",
       "      <td>35</td>\n",
       "      <td>4</td>\n",
       "      <td>1</td>\n",
       "    </tr>\n",
       "    <tr>\n",
       "      <th>1990</th>\n",
       "      <td>36</td>\n",
       "      <td>22</td>\n",
       "      <td>4</td>\n",
       "      <td>46</td>\n",
       "      <td>30</td>\n",
       "      <td>0</td>\n",
       "      <td>58</td>\n",
       "      <td>12</td>\n",
       "      <td>13</td>\n",
       "      <td>1</td>\n",
       "      <td>3</td>\n",
       "      <td>25</td>\n",
       "      <td>2</td>\n",
       "      <td>14</td>\n",
       "      <td>18</td>\n",
       "      <td>18</td>\n",
       "      <td>1</td>\n",
       "      <td>45</td>\n",
       "      <td>2</td>\n",
       "      <td>3</td>\n",
       "    </tr>\n",
       "    <tr>\n",
       "      <th>1991</th>\n",
       "      <td>35</td>\n",
       "      <td>21</td>\n",
       "      <td>3</td>\n",
       "      <td>57</td>\n",
       "      <td>20</td>\n",
       "      <td>3</td>\n",
       "      <td>62</td>\n",
       "      <td>21</td>\n",
       "      <td>17</td>\n",
       "      <td>2</td>\n",
       "      <td>1</td>\n",
       "      <td>11</td>\n",
       "      <td>7</td>\n",
       "      <td>9</td>\n",
       "      <td>26</td>\n",
       "      <td>10</td>\n",
       "      <td>0</td>\n",
       "      <td>35</td>\n",
       "      <td>2</td>\n",
       "      <td>1</td>\n",
       "    </tr>\n",
       "    <tr>\n",
       "      <th>1992</th>\n",
       "      <td>33</td>\n",
       "      <td>17</td>\n",
       "      <td>4</td>\n",
       "      <td>50</td>\n",
       "      <td>25</td>\n",
       "      <td>0</td>\n",
       "      <td>63</td>\n",
       "      <td>16</td>\n",
       "      <td>13</td>\n",
       "      <td>2</td>\n",
       "      <td>4</td>\n",
       "      <td>16</td>\n",
       "      <td>5</td>\n",
       "      <td>10</td>\n",
       "      <td>30</td>\n",
       "      <td>15</td>\n",
       "      <td>0</td>\n",
       "      <td>45</td>\n",
       "      <td>1</td>\n",
       "      <td>2</td>\n",
       "    </tr>\n",
       "    <tr>\n",
       "      <th>1993</th>\n",
       "      <td>51</td>\n",
       "      <td>25</td>\n",
       "      <td>6</td>\n",
       "      <td>69</td>\n",
       "      <td>28</td>\n",
       "      <td>0</td>\n",
       "      <td>89</td>\n",
       "      <td>29</td>\n",
       "      <td>13</td>\n",
       "      <td>3</td>\n",
       "      <td>8</td>\n",
       "      <td>17</td>\n",
       "      <td>6</td>\n",
       "      <td>15</td>\n",
       "      <td>33</td>\n",
       "      <td>17</td>\n",
       "      <td>0</td>\n",
       "      <td>45</td>\n",
       "      <td>6</td>\n",
       "      <td>3</td>\n",
       "    </tr>\n",
       "    <tr>\n",
       "      <th>1994</th>\n",
       "      <td>58</td>\n",
       "      <td>31</td>\n",
       "      <td>8</td>\n",
       "      <td>83</td>\n",
       "      <td>25</td>\n",
       "      <td>2</td>\n",
       "      <td>79</td>\n",
       "      <td>33</td>\n",
       "      <td>23</td>\n",
       "      <td>3</td>\n",
       "      <td>3</td>\n",
       "      <td>13</td>\n",
       "      <td>3</td>\n",
       "      <td>10</td>\n",
       "      <td>34</td>\n",
       "      <td>19</td>\n",
       "      <td>4</td>\n",
       "      <td>42</td>\n",
       "      <td>3</td>\n",
       "      <td>8</td>\n",
       "    </tr>\n",
       "    <tr>\n",
       "      <th>1995</th>\n",
       "      <td>46</td>\n",
       "      <td>30</td>\n",
       "      <td>6</td>\n",
       "      <td>60</td>\n",
       "      <td>31</td>\n",
       "      <td>1</td>\n",
       "      <td>92</td>\n",
       "      <td>31</td>\n",
       "      <td>17</td>\n",
       "      <td>1</td>\n",
       "      <td>7</td>\n",
       "      <td>19</td>\n",
       "      <td>0</td>\n",
       "      <td>14</td>\n",
       "      <td>37</td>\n",
       "      <td>18</td>\n",
       "      <td>1</td>\n",
       "      <td>48</td>\n",
       "      <td>5</td>\n",
       "      <td>3</td>\n",
       "    </tr>\n",
       "    <tr>\n",
       "      <th>1996</th>\n",
       "      <td>41</td>\n",
       "      <td>29</td>\n",
       "      <td>8</td>\n",
       "      <td>86</td>\n",
       "      <td>19</td>\n",
       "      <td>2</td>\n",
       "      <td>100</td>\n",
       "      <td>31</td>\n",
       "      <td>21</td>\n",
       "      <td>1</td>\n",
       "      <td>4</td>\n",
       "      <td>17</td>\n",
       "      <td>3</td>\n",
       "      <td>13</td>\n",
       "      <td>43</td>\n",
       "      <td>24</td>\n",
       "      <td>2</td>\n",
       "      <td>61</td>\n",
       "      <td>3</td>\n",
       "      <td>0</td>\n",
       "    </tr>\n",
       "    <tr>\n",
       "      <th>1997</th>\n",
       "      <td>57</td>\n",
       "      <td>33</td>\n",
       "      <td>8</td>\n",
       "      <td>73</td>\n",
       "      <td>26</td>\n",
       "      <td>1</td>\n",
       "      <td>78</td>\n",
       "      <td>30</td>\n",
       "      <td>18</td>\n",
       "      <td>2</td>\n",
       "      <td>6</td>\n",
       "      <td>18</td>\n",
       "      <td>4</td>\n",
       "      <td>20</td>\n",
       "      <td>30</td>\n",
       "      <td>29</td>\n",
       "      <td>1</td>\n",
       "      <td>59</td>\n",
       "      <td>1</td>\n",
       "      <td>0</td>\n",
       "    </tr>\n",
       "    <tr>\n",
       "      <th>1998</th>\n",
       "      <td>42</td>\n",
       "      <td>35</td>\n",
       "      <td>14</td>\n",
       "      <td>78</td>\n",
       "      <td>32</td>\n",
       "      <td>2</td>\n",
       "      <td>97</td>\n",
       "      <td>32</td>\n",
       "      <td>20</td>\n",
       "      <td>1</td>\n",
       "      <td>6</td>\n",
       "      <td>20</td>\n",
       "      <td>11</td>\n",
       "      <td>17</td>\n",
       "      <td>38</td>\n",
       "      <td>25</td>\n",
       "      <td>2</td>\n",
       "      <td>51</td>\n",
       "      <td>3</td>\n",
       "      <td>1</td>\n",
       "    </tr>\n",
       "    <tr>\n",
       "      <th>1999</th>\n",
       "      <td>37</td>\n",
       "      <td>17</td>\n",
       "      <td>13</td>\n",
       "      <td>97</td>\n",
       "      <td>29</td>\n",
       "      <td>4</td>\n",
       "      <td>109</td>\n",
       "      <td>25</td>\n",
       "      <td>20</td>\n",
       "      <td>3</td>\n",
       "      <td>6</td>\n",
       "      <td>24</td>\n",
       "      <td>4</td>\n",
       "      <td>24</td>\n",
       "      <td>42</td>\n",
       "      <td>27</td>\n",
       "      <td>5</td>\n",
       "      <td>51</td>\n",
       "      <td>3</td>\n",
       "      <td>3</td>\n",
       "    </tr>\n",
       "    <tr>\n",
       "      <th>2000</th>\n",
       "      <td>42</td>\n",
       "      <td>25</td>\n",
       "      <td>22</td>\n",
       "      <td>83</td>\n",
       "      <td>28</td>\n",
       "      <td>3</td>\n",
       "      <td>88</td>\n",
       "      <td>29</td>\n",
       "      <td>19</td>\n",
       "      <td>3</td>\n",
       "      <td>4</td>\n",
       "      <td>18</td>\n",
       "      <td>9</td>\n",
       "      <td>13</td>\n",
       "      <td>41</td>\n",
       "      <td>24</td>\n",
       "      <td>1</td>\n",
       "      <td>56</td>\n",
       "      <td>4</td>\n",
       "      <td>2</td>\n",
       "    </tr>\n",
       "    <tr>\n",
       "      <th>2001</th>\n",
       "      <td>58</td>\n",
       "      <td>35</td>\n",
       "      <td>15</td>\n",
       "      <td>89</td>\n",
       "      <td>37</td>\n",
       "      <td>3</td>\n",
       "      <td>86</td>\n",
       "      <td>22</td>\n",
       "      <td>21</td>\n",
       "      <td>2</td>\n",
       "      <td>10</td>\n",
       "      <td>20</td>\n",
       "      <td>5</td>\n",
       "      <td>21</td>\n",
       "      <td>48</td>\n",
       "      <td>23</td>\n",
       "      <td>6</td>\n",
       "      <td>63</td>\n",
       "      <td>10</td>\n",
       "      <td>2</td>\n",
       "    </tr>\n",
       "    <tr>\n",
       "      <th>2002</th>\n",
       "      <td>69</td>\n",
       "      <td>42</td>\n",
       "      <td>19</td>\n",
       "      <td>94</td>\n",
       "      <td>39</td>\n",
       "      <td>6</td>\n",
       "      <td>117</td>\n",
       "      <td>33</td>\n",
       "      <td>17</td>\n",
       "      <td>9</td>\n",
       "      <td>8</td>\n",
       "      <td>29</td>\n",
       "      <td>2</td>\n",
       "      <td>26</td>\n",
       "      <td>45</td>\n",
       "      <td>26</td>\n",
       "      <td>2</td>\n",
       "      <td>81</td>\n",
       "      <td>7</td>\n",
       "      <td>1</td>\n",
       "    </tr>\n",
       "    <tr>\n",
       "      <th>2003</th>\n",
       "      <td>66</td>\n",
       "      <td>37</td>\n",
       "      <td>27</td>\n",
       "      <td>102</td>\n",
       "      <td>45</td>\n",
       "      <td>7</td>\n",
       "      <td>95</td>\n",
       "      <td>39</td>\n",
       "      <td>24</td>\n",
       "      <td>2</td>\n",
       "      <td>9</td>\n",
       "      <td>22</td>\n",
       "      <td>9</td>\n",
       "      <td>17</td>\n",
       "      <td>46</td>\n",
       "      <td>35</td>\n",
       "      <td>2</td>\n",
       "      <td>67</td>\n",
       "      <td>8</td>\n",
       "      <td>3</td>\n",
       "    </tr>\n",
       "    <tr>\n",
       "      <th>2004</th>\n",
       "      <td>61</td>\n",
       "      <td>40</td>\n",
       "      <td>20</td>\n",
       "      <td>102</td>\n",
       "      <td>28</td>\n",
       "      <td>5</td>\n",
       "      <td>116</td>\n",
       "      <td>31</td>\n",
       "      <td>17</td>\n",
       "      <td>2</td>\n",
       "      <td>7</td>\n",
       "      <td>28</td>\n",
       "      <td>7</td>\n",
       "      <td>25</td>\n",
       "      <td>53</td>\n",
       "      <td>31</td>\n",
       "      <td>3</td>\n",
       "      <td>65</td>\n",
       "      <td>7</td>\n",
       "      <td>7</td>\n",
       "    </tr>\n",
       "    <tr>\n",
       "      <th>2005</th>\n",
       "      <td>68</td>\n",
       "      <td>51</td>\n",
       "      <td>20</td>\n",
       "      <td>129</td>\n",
       "      <td>43</td>\n",
       "      <td>9</td>\n",
       "      <td>158</td>\n",
       "      <td>49</td>\n",
       "      <td>32</td>\n",
       "      <td>7</td>\n",
       "      <td>9</td>\n",
       "      <td>56</td>\n",
       "      <td>11</td>\n",
       "      <td>29</td>\n",
       "      <td>57</td>\n",
       "      <td>22</td>\n",
       "      <td>2</td>\n",
       "      <td>88</td>\n",
       "      <td>4</td>\n",
       "      <td>2</td>\n",
       "    </tr>\n",
       "    <tr>\n",
       "      <th>2006</th>\n",
       "      <td>69</td>\n",
       "      <td>52</td>\n",
       "      <td>31</td>\n",
       "      <td>137</td>\n",
       "      <td>50</td>\n",
       "      <td>11</td>\n",
       "      <td>177</td>\n",
       "      <td>52</td>\n",
       "      <td>30</td>\n",
       "      <td>5</td>\n",
       "      <td>12</td>\n",
       "      <td>48</td>\n",
       "      <td>11</td>\n",
       "      <td>30</td>\n",
       "      <td>62</td>\n",
       "      <td>26</td>\n",
       "      <td>8</td>\n",
       "      <td>100</td>\n",
       "      <td>7</td>\n",
       "      <td>1</td>\n",
       "    </tr>\n",
       "    <tr>\n",
       "      <th>2007</th>\n",
       "      <td>89</td>\n",
       "      <td>56</td>\n",
       "      <td>29</td>\n",
       "      <td>133</td>\n",
       "      <td>64</td>\n",
       "      <td>8</td>\n",
       "      <td>180</td>\n",
       "      <td>40</td>\n",
       "      <td>45</td>\n",
       "      <td>10</td>\n",
       "      <td>12</td>\n",
       "      <td>76</td>\n",
       "      <td>13</td>\n",
       "      <td>32</td>\n",
       "      <td>65</td>\n",
       "      <td>34</td>\n",
       "      <td>4</td>\n",
       "      <td>117</td>\n",
       "      <td>6</td>\n",
       "      <td>5</td>\n",
       "    </tr>\n",
       "    <tr>\n",
       "      <th>2008</th>\n",
       "      <td>88</td>\n",
       "      <td>58</td>\n",
       "      <td>30</td>\n",
       "      <td>146</td>\n",
       "      <td>57</td>\n",
       "      <td>20</td>\n",
       "      <td>211</td>\n",
       "      <td>48</td>\n",
       "      <td>38</td>\n",
       "      <td>14</td>\n",
       "      <td>21</td>\n",
       "      <td>71</td>\n",
       "      <td>15</td>\n",
       "      <td>27</td>\n",
       "      <td>76</td>\n",
       "      <td>47</td>\n",
       "      <td>5</td>\n",
       "      <td>118</td>\n",
       "      <td>17</td>\n",
       "      <td>2</td>\n",
       "    </tr>\n",
       "    <tr>\n",
       "      <th>2009</th>\n",
       "      <td>97</td>\n",
       "      <td>67</td>\n",
       "      <td>45</td>\n",
       "      <td>180</td>\n",
       "      <td>52</td>\n",
       "      <td>13</td>\n",
       "      <td>199</td>\n",
       "      <td>52</td>\n",
       "      <td>46</td>\n",
       "      <td>9</td>\n",
       "      <td>14</td>\n",
       "      <td>85</td>\n",
       "      <td>14</td>\n",
       "      <td>49</td>\n",
       "      <td>74</td>\n",
       "      <td>65</td>\n",
       "      <td>7</td>\n",
       "      <td>145</td>\n",
       "      <td>11</td>\n",
       "      <td>0</td>\n",
       "    </tr>\n",
       "    <tr>\n",
       "      <th>2010</th>\n",
       "      <td>99</td>\n",
       "      <td>57</td>\n",
       "      <td>46</td>\n",
       "      <td>149</td>\n",
       "      <td>46</td>\n",
       "      <td>19</td>\n",
       "      <td>189</td>\n",
       "      <td>48</td>\n",
       "      <td>40</td>\n",
       "      <td>9</td>\n",
       "      <td>12</td>\n",
       "      <td>67</td>\n",
       "      <td>5</td>\n",
       "      <td>30</td>\n",
       "      <td>75</td>\n",
       "      <td>42</td>\n",
       "      <td>6</td>\n",
       "      <td>123</td>\n",
       "      <td>7</td>\n",
       "      <td>6</td>\n",
       "    </tr>\n",
       "    <tr>\n",
       "      <th>2011</th>\n",
       "      <td>105</td>\n",
       "      <td>56</td>\n",
       "      <td>36</td>\n",
       "      <td>147</td>\n",
       "      <td>45</td>\n",
       "      <td>27</td>\n",
       "      <td>185</td>\n",
       "      <td>61</td>\n",
       "      <td>38</td>\n",
       "      <td>7</td>\n",
       "      <td>8</td>\n",
       "      <td>67</td>\n",
       "      <td>12</td>\n",
       "      <td>34</td>\n",
       "      <td>62</td>\n",
       "      <td>50</td>\n",
       "      <td>9</td>\n",
       "      <td>133</td>\n",
       "      <td>9</td>\n",
       "      <td>3</td>\n",
       "    </tr>\n",
       "    <tr>\n",
       "      <th>2012</th>\n",
       "      <td>96</td>\n",
       "      <td>49</td>\n",
       "      <td>35</td>\n",
       "      <td>150</td>\n",
       "      <td>52</td>\n",
       "      <td>28</td>\n",
       "      <td>202</td>\n",
       "      <td>39</td>\n",
       "      <td>32</td>\n",
       "      <td>4</td>\n",
       "      <td>11</td>\n",
       "      <td>92</td>\n",
       "      <td>14</td>\n",
       "      <td>27</td>\n",
       "      <td>70</td>\n",
       "      <td>50</td>\n",
       "      <td>9</td>\n",
       "      <td>148</td>\n",
       "      <td>9</td>\n",
       "      <td>3</td>\n",
       "    </tr>\n",
       "    <tr>\n",
       "      <th>2013</th>\n",
       "      <td>110</td>\n",
       "      <td>61</td>\n",
       "      <td>39</td>\n",
       "      <td>150</td>\n",
       "      <td>67</td>\n",
       "      <td>39</td>\n",
       "      <td>228</td>\n",
       "      <td>44</td>\n",
       "      <td>35</td>\n",
       "      <td>0</td>\n",
       "      <td>11</td>\n",
       "      <td>90</td>\n",
       "      <td>23</td>\n",
       "      <td>36</td>\n",
       "      <td>56</td>\n",
       "      <td>50</td>\n",
       "      <td>9</td>\n",
       "      <td>165</td>\n",
       "      <td>7</td>\n",
       "      <td>3</td>\n",
       "    </tr>\n",
       "    <tr>\n",
       "      <th>2014</th>\n",
       "      <td>124</td>\n",
       "      <td>66</td>\n",
       "      <td>34</td>\n",
       "      <td>167</td>\n",
       "      <td>59</td>\n",
       "      <td>46</td>\n",
       "      <td>269</td>\n",
       "      <td>41</td>\n",
       "      <td>35</td>\n",
       "      <td>0</td>\n",
       "      <td>14</td>\n",
       "      <td>97</td>\n",
       "      <td>24</td>\n",
       "      <td>34</td>\n",
       "      <td>76</td>\n",
       "      <td>57</td>\n",
       "      <td>11</td>\n",
       "      <td>170</td>\n",
       "      <td>22</td>\n",
       "      <td>5</td>\n",
       "    </tr>\n",
       "    <tr>\n",
       "      <th>2015</th>\n",
       "      <td>102</td>\n",
       "      <td>65</td>\n",
       "      <td>37</td>\n",
       "      <td>143</td>\n",
       "      <td>47</td>\n",
       "      <td>37</td>\n",
       "      <td>232</td>\n",
       "      <td>41</td>\n",
       "      <td>31</td>\n",
       "      <td>0</td>\n",
       "      <td>13</td>\n",
       "      <td>114</td>\n",
       "      <td>31</td>\n",
       "      <td>39</td>\n",
       "      <td>45</td>\n",
       "      <td>82</td>\n",
       "      <td>12</td>\n",
       "      <td>160</td>\n",
       "      <td>8</td>\n",
       "      <td>6</td>\n",
       "    </tr>\n",
       "  </tbody>\n",
       "</table>\n",
       "</div>"
      ],
      "text/plain": [
       "value         Action  Adventure  Animation  Comedy  Crime  Documentary  Drama  \\\n",
       "release_year                                                                    \n",
       "1960               8          5          0       8      2            0     13   \n",
       "1961               7          6          1      10      2            0     16   \n",
       "1962               6          7          0       5      3            0     19   \n",
       "1963               4          7          1      13      4            0     13   \n",
       "1964               5          5          2      16     10            0     20   \n",
       "1965               9          6          1       7      2            0     19   \n",
       "1966              14         11          2      15      5            1     15   \n",
       "1967               6          6          1      16      7            1     16   \n",
       "1968               6          5          3       8      5            0     19   \n",
       "1969              10          5          2      10      3            0     13   \n",
       "1970              11          6          2      12      4            3     19   \n",
       "1971              11          5          1       9     10            0     30   \n",
       "1972               9          5          1      13      6            0     16   \n",
       "1973              15          5          3       8     17            1     31   \n",
       "1974              14          7          1      11     15            1     21   \n",
       "1975               9          8          1      11      6            1     17   \n",
       "1976              13          6          0      11      8            1     22   \n",
       "1977              14         15          5      10      2            1     23   \n",
       "1978              15         10          2      13      6            2     28   \n",
       "1979               8          8          1      18      8            0     30   \n",
       "1980              23         13          0      20      8            0     32   \n",
       "1981              15         12          3      19     10            1     32   \n",
       "1982              16         10          6      28      9            1     33   \n",
       "1983              21         14          3      27     11            0     34   \n",
       "1984              32         21          0      37     14            1     37   \n",
       "1985              28         28          2      50     14            1     38   \n",
       "1986              29         17          5      47     18            0     48   \n",
       "1987              28         16          2      53     21            0     47   \n",
       "1988              31         14          4      65     21            1     49   \n",
       "1989              38         23          3      59     24            2     53   \n",
       "1990              36         22          4      46     30            0     58   \n",
       "1991              35         21          3      57     20            3     62   \n",
       "1992              33         17          4      50     25            0     63   \n",
       "1993              51         25          6      69     28            0     89   \n",
       "1994              58         31          8      83     25            2     79   \n",
       "1995              46         30          6      60     31            1     92   \n",
       "1996              41         29          8      86     19            2    100   \n",
       "1997              57         33          8      73     26            1     78   \n",
       "1998              42         35         14      78     32            2     97   \n",
       "1999              37         17         13      97     29            4    109   \n",
       "2000              42         25         22      83     28            3     88   \n",
       "2001              58         35         15      89     37            3     86   \n",
       "2002              69         42         19      94     39            6    117   \n",
       "2003              66         37         27     102     45            7     95   \n",
       "2004              61         40         20     102     28            5    116   \n",
       "2005              68         51         20     129     43            9    158   \n",
       "2006              69         52         31     137     50           11    177   \n",
       "2007              89         56         29     133     64            8    180   \n",
       "2008              88         58         30     146     57           20    211   \n",
       "2009              97         67         45     180     52           13    199   \n",
       "2010              99         57         46     149     46           19    189   \n",
       "2011             105         56         36     147     45           27    185   \n",
       "2012              96         49         35     150     52           28    202   \n",
       "2013             110         61         39     150     67           39    228   \n",
       "2014             124         66         34     167     59           46    269   \n",
       "2015             102         65         37     143     47           37    232   \n",
       "\n",
       "value         Family  Fantasy  Foreign  History  Horror  Music  Mystery  \\\n",
       "release_year                                                              \n",
       "1960               3        2        1        5       7      1        0   \n",
       "1961               4        1        1        3       3      2        1   \n",
       "1962               2        1        1        3       5      1        4   \n",
       "1963               3        2        2        4       9      0        6   \n",
       "1964               4        3        1        3       6      5        4   \n",
       "1965               3        0        0        4       4      2        3   \n",
       "1966               6        2        2        2       3      0        6   \n",
       "1967               3        3        0        0       4      4        3   \n",
       "1968               5        5        0        3       4      3        4   \n",
       "1969               4        2        0        3       1      2        1   \n",
       "1970               3        3        1        3       5      4        3   \n",
       "1971               2        2        0        3       7      1        6   \n",
       "1972               1        1        0        0       8      1        4   \n",
       "1973               4        1        0        2      15      1        7   \n",
       "1974               3        3        0        1       8      1        5   \n",
       "1975               2        4        0        3       8      3        8   \n",
       "1976               3        2        1        2       9      3        7   \n",
       "1977               7        9        0        4      14      3        5   \n",
       "1978               5        4        1        2      19      3        7   \n",
       "1979               5        0        0        3      11      4        4   \n",
       "1980               4        6        2        5      16      4        8   \n",
       "1981               5        3        0        4      24      3       10   \n",
       "1982               8       13        2        2      20      6       10   \n",
       "1983               3       10        1        1      12      4        5   \n",
       "1984               9       15        0        5      18     11        4   \n",
       "1985              11       13        0        0      14      2        3   \n",
       "1986              11        9        0        3      25      5        7   \n",
       "1987              13       17        0        3      23      3        7   \n",
       "1988              14       14        1        3      34      4        7   \n",
       "1989              15       14        1        4      25      2        8   \n",
       "1990              12       13        1        3      25      2       14   \n",
       "1991              21       17        2        1      11      7        9   \n",
       "1992              16       13        2        4      16      5       10   \n",
       "1993              29       13        3        8      17      6       15   \n",
       "1994              33       23        3        3      13      3       10   \n",
       "1995              31       17        1        7      19      0       14   \n",
       "1996              31       21        1        4      17      3       13   \n",
       "1997              30       18        2        6      18      4       20   \n",
       "1998              32       20        1        6      20     11       17   \n",
       "1999              25       20        3        6      24      4       24   \n",
       "2000              29       19        3        4      18      9       13   \n",
       "2001              22       21        2       10      20      5       21   \n",
       "2002              33       17        9        8      29      2       26   \n",
       "2003              39       24        2        9      22      9       17   \n",
       "2004              31       17        2        7      28      7       25   \n",
       "2005              49       32        7        9      56     11       29   \n",
       "2006              52       30        5       12      48     11       30   \n",
       "2007              40       45       10       12      76     13       32   \n",
       "2008              48       38       14       21      71     15       27   \n",
       "2009              52       46        9       14      85     14       49   \n",
       "2010              48       40        9       12      67      5       30   \n",
       "2011              61       38        7        8      67     12       34   \n",
       "2012              39       32        4       11      92     14       27   \n",
       "2013              44       35        0       11      90     23       36   \n",
       "2014              41       35        0       14      97     24       34   \n",
       "2015              41       31        0       13     114     31       39   \n",
       "\n",
       "value         Romance  Science Fiction  TV Movie  Thriller  War  Western  \n",
       "release_year                                                              \n",
       "1960                6                3         0         6    2        6  \n",
       "1961                7                3         0         0    2        3  \n",
       "1962                5                2         0         7    2        3  \n",
       "1963                8                2         0        10    1        2  \n",
       "1964                9                4         0         9    3        1  \n",
       "1965                5                1         1        10    8        4  \n",
       "1966                5                6         0         8    4        7  \n",
       "1967               11                3         0         5    1        2  \n",
       "1968                6                4         0         5    4        1  \n",
       "1969                3                3         1         3    3        7  \n",
       "1970                6                3         1         5    5        8  \n",
       "1971                9                6         1        17    4        5  \n",
       "1972                5                4         0        10    0        5  \n",
       "1973                3                6         1        16    0        4  \n",
       "1974                3                5         1        20    1        2  \n",
       "1975                2               10         0        12    2        3  \n",
       "1976                5                5         1        17    2        3  \n",
       "1977                4               10         0        12    4        1  \n",
       "1978                5               15         3        22    4        1  \n",
       "1979                8               10         0        16    3        4  \n",
       "1980                9               11         1        24    2        5  \n",
       "1981               10                9         1        26    1        0  \n",
       "1982               12               13         1        17    2        2  \n",
       "1983               14               16         1        24    1        1  \n",
       "1984               19               24         1        22    3        0  \n",
       "1985               21               17         0        24    2        2  \n",
       "1986               24               18         0        22    4        1  \n",
       "1987               21               17         2        27    6        1  \n",
       "1988               19               18         1        32    6        0  \n",
       "1989               22               21         0        35    4        1  \n",
       "1990               18               18         1        45    2        3  \n",
       "1991               26               10         0        35    2        1  \n",
       "1992               30               15         0        45    1        2  \n",
       "1993               33               17         0        45    6        3  \n",
       "1994               34               19         4        42    3        8  \n",
       "1995               37               18         1        48    5        3  \n",
       "1996               43               24         2        61    3        0  \n",
       "1997               30               29         1        59    1        0  \n",
       "1998               38               25         2        51    3        1  \n",
       "1999               42               27         5        51    3        3  \n",
       "2000               41               24         1        56    4        2  \n",
       "2001               48               23         6        63   10        2  \n",
       "2002               45               26         2        81    7        1  \n",
       "2003               46               35         2        67    8        3  \n",
       "2004               53               31         3        65    7        7  \n",
       "2005               57               22         2        88    4        2  \n",
       "2006               62               26         8       100    7        1  \n",
       "2007               65               34         4       117    6        5  \n",
       "2008               76               47         5       118   17        2  \n",
       "2009               74               65         7       145   11        0  \n",
       "2010               75               42         6       123    7        6  \n",
       "2011               62               50         9       133    9        3  \n",
       "2012               70               50         9       148    9        3  \n",
       "2013               56               50         9       165    7        3  \n",
       "2014               76               57        11       170   22        5  \n",
       "2015               45               82        12       160    8        6  "
      ]
     },
     "execution_count": 50,
     "metadata": {},
     "output_type": "execute_result"
    }
   ],
   "source": [
    "df1"
   ]
  },
  {
   "cell_type": "markdown",
   "metadata": {},
   "source": [
    "Comment on the results: <br> \n",
    "The number of Drama movies made every year is noticeably larger than the rest of genres."
   ]
  },
  {
   "cell_type": "markdown",
   "metadata": {},
   "source": [
    "We get the genre with the most released movies each year and list them"
   ]
  },
  {
   "cell_type": "code",
   "execution_count": 51,
   "metadata": {},
   "outputs": [],
   "source": [
    "most_released_genre = df1.idxmax(axis = 1)"
   ]
  },
  {
   "cell_type": "code",
   "execution_count": 52,
   "metadata": {},
   "outputs": [
    {
     "data": {
      "text/plain": [
       "release_year\n",
       "1960     Drama\n",
       "1961     Drama\n",
       "1962     Drama\n",
       "1963    Comedy\n",
       "1964     Drama\n",
       "1965     Drama\n",
       "1966    Comedy\n",
       "1967    Comedy\n",
       "1968     Drama\n",
       "1969     Drama\n",
       "1970     Drama\n",
       "1971     Drama\n",
       "1972     Drama\n",
       "1973     Drama\n",
       "1974     Drama\n",
       "1975     Drama\n",
       "1976     Drama\n",
       "1977     Drama\n",
       "1978     Drama\n",
       "1979     Drama\n",
       "1980     Drama\n",
       "1981     Drama\n",
       "1982     Drama\n",
       "1983     Drama\n",
       "1984    Comedy\n",
       "1985    Comedy\n",
       "1986     Drama\n",
       "1987    Comedy\n",
       "1988    Comedy\n",
       "1989    Comedy\n",
       "1990     Drama\n",
       "1991     Drama\n",
       "1992     Drama\n",
       "1993     Drama\n",
       "1994    Comedy\n",
       "1995     Drama\n",
       "1996     Drama\n",
       "1997     Drama\n",
       "1998     Drama\n",
       "1999     Drama\n",
       "2000     Drama\n",
       "2001    Comedy\n",
       "2002     Drama\n",
       "2003    Comedy\n",
       "2004     Drama\n",
       "2005     Drama\n",
       "2006     Drama\n",
       "2007     Drama\n",
       "2008     Drama\n",
       "2009     Drama\n",
       "2010     Drama\n",
       "2011     Drama\n",
       "2012     Drama\n",
       "2013     Drama\n",
       "2014     Drama\n",
       "2015     Drama\n",
       "dtype: object"
      ]
     },
     "execution_count": 52,
     "metadata": {},
     "output_type": "execute_result"
    }
   ],
   "source": [
    "most_released_genre"
   ]
  },
  {
   "cell_type": "markdown",
   "metadata": {},
   "source": [
    "Comment on the results: <br>\n",
    "Most of the movies released every year from 1960 to 2015 fall under the Drama genre, except for 11 years in this 55-year-long period when the most releases in these years were Comedy movies."
   ]
  },
  {
   "cell_type": "markdown",
   "metadata": {},
   "source": [
    "And we can also get the total number of movies released under each genre over the years between 1960 and 2015"
   ]
  },
  {
   "cell_type": "code",
   "execution_count": 53,
   "metadata": {},
   "outputs": [],
   "source": [
    "no_of_movies_by_genre = df1.sum(axis = 0)"
   ]
  },
  {
   "cell_type": "code",
   "execution_count": 102,
   "metadata": {},
   "outputs": [],
   "source": [
    "genre_sort = no_of_movies_by_genre.sort_values(ascending=False)"
   ]
  },
  {
   "cell_type": "code",
   "execution_count": 106,
   "metadata": {},
   "outputs": [
    {
     "data": {
      "text/plain": [
       "value\n",
       "Drama              4362\n",
       "Comedy             3429\n",
       "Thriller           2744\n",
       "Action             2234\n",
       "Romance            1568\n",
       "Horror             1521\n",
       "Adventure          1383\n",
       "Crime              1299\n",
       "Science Fiction    1135\n",
       "Family             1094\n",
       "Fantasy             839\n",
       "Mystery             772\n",
       "Animation           617\n",
       "Music               338\n",
       "Documentary         315\n",
       "History             306\n",
       "War                 258\n",
       "Western             160\n",
       "TV Movie            130\n",
       "Foreign             120\n",
       "dtype: int64"
      ]
     },
     "execution_count": 106,
     "metadata": {},
     "output_type": "execute_result"
    }
   ],
   "source": [
    "genre_sort"
   ]
  },
  {
   "cell_type": "markdown",
   "metadata": {},
   "source": [
    "These are the total numbers of movies released under each genre from 1960 to 2015."
   ]
  },
  {
   "cell_type": "code",
   "execution_count": 141,
   "metadata": {},
   "outputs": [],
   "source": [
    "genre_sort_100 = genre_sort.apply(lambda x: 100 * x / float(genre_sort.sum()))"
   ]
  },
  {
   "cell_type": "code",
   "execution_count": 142,
   "metadata": {},
   "outputs": [
    {
     "data": {
      "text/plain": [
       "value\n",
       "Drama              17.714425\n",
       "Comedy             13.925439\n",
       "Thriller           11.143600\n",
       "Action              9.072450\n",
       "Romance             6.367771\n",
       "Horror              6.176901\n",
       "Adventure           5.616472\n",
       "Crime               5.275341\n",
       "Science Fiction     4.609324\n",
       "Family              4.442820\n",
       "Fantasy             3.407245\n",
       "Mystery             3.135153\n",
       "Animation           2.505686\n",
       "Music               1.372645\n",
       "Documentary         1.279240\n",
       "History             1.242690\n",
       "War                 1.047758\n",
       "Western             0.649773\n",
       "TV Movie            0.527940\n",
       "Foreign             0.487329\n",
       "dtype: float64"
      ]
     },
     "execution_count": 142,
     "metadata": {},
     "output_type": "execute_result"
    }
   ],
   "source": [
    "genre_sort_100"
   ]
  },
  {
   "cell_type": "markdown",
   "metadata": {},
   "source": [
    "These are the total numbers of movies released under each genre from 1960 to 2015 as percentages compared to other genres."
   ]
  },
  {
   "cell_type": "code",
   "execution_count": 140,
   "metadata": {},
   "outputs": [
    {
     "data": {
      "image/png": "[encoded data removed]",
      "text/plain": [
       "<matplotlib.figure.Figure at 0x7f2c6b8a97b8>"
      ]
     },
     "metadata": {},
     "output_type": "display_data"
    }
   ],
   "source": [
    "plt.figure(figsize = (20,20));\n",
    "genre_sort.plot.pie(autopct=\"%.1f%%\");\n",
    "plt.ylabel(\"\");"
   ]
  },
  {
   "cell_type": "markdown",
   "metadata": {},
   "source": [
    "Comment on the results: <br> \n",
    "The most releases between 1960 and 2015 are Drama and Comedy movies, while the least releases are in TV Movie and Foreign genres."
   ]
  },
  {
   "cell_type": "markdown",
   "metadata": {},
   "source": [
    "### What is the average rating of each genre?"
   ]
  },
  {
   "cell_type": "code",
   "execution_count": 58,
   "metadata": {},
   "outputs": [],
   "source": [
    "genres_rating = movies[['genres_1', 'genres_2', 'genres_3', 'genres_4', 'genres_5', 'vote_average']].copy()"
   ]
  },
  {
   "cell_type": "markdown",
   "metadata": {},
   "source": [
    "We use the copied dataframe columns to create a dataframe of all the genres of each movie and the corresponding average vote of that movie"
   ]
  },
  {
   "cell_type": "code",
   "execution_count": 59,
   "metadata": {},
   "outputs": [],
   "source": [
    "cols = ['genres_1', 'genres_2', 'genres_3', 'genres_4', 'genres_5']\n",
    "genres_rating = pd.DataFrame(genres_rating[cols].values.tolist(), index=genres_rating.vote_average).stack()\n",
    "genres_rating = genres_rating.reset_index([0, 'vote_average'])\n",
    "genres_rating.columns = ['vote_average', 'genres']"
   ]
  },
  {
   "cell_type": "code",
   "execution_count": 60,
   "metadata": {},
   "outputs": [
    {
     "data": {
      "image/png": "[encoded data removed]",
      "text/plain": [
       "<matplotlib.figure.Figure at 0x7f2c6c066b00>"
      ]
     },
     "metadata": {
      "needs_background": "light"
     },
     "output_type": "display_data"
    }
   ],
   "source": [
    "plt.figure(figsize = (15,10));\n",
    "sns.boxplot(x = 'genres' , y = 'vote_average' , data = genres_rating);\n",
    "plt.xlabel('Genres',fontsize = 15);\n",
    "plt.ylabel('Votes',fontsize = 15);\n",
    "plt.title('Genres vs Votes', fontsize = 15)\n",
    "plt.xticks(rotation = 40);"
   ]
  },
  {
   "cell_type": "markdown",
   "metadata": {},
   "source": [
    "Comment on the results: <br>\n",
    "The Documentary genre has the highest average rating (vote), while the Horror genre receive in average the least rating among all the genres."
   ]
  },
  {
   "cell_type": "markdown",
   "metadata": {},
   "source": [
    "### What is the biggest production of each year from 1960 to 2015?"
   ]
  },
  {
   "cell_type": "markdown",
   "metadata": {},
   "source": [
    "We need to sort the entries by budget then extract the first title for each release year. We use the adjusted budget attribute to determine the biggest budget movie of each year."
   ]
  },
  {
   "cell_type": "code",
   "execution_count": 61,
   "metadata": {},
   "outputs": [],
   "source": [
    "def sort_by_budget(df):\n",
    "    #sort the df by the adjusted budget value and return the first entry\n",
    "    return df.sort_values(by = 'budget_adj',ascending = False)['original_title'].head(1)"
   ]
  },
  {
   "cell_type": "code",
   "execution_count": 62,
   "metadata": {},
   "outputs": [
    {
     "data": {
      "text/plain": [
       "release_year       \n",
       "1960          10143                                      Spartacus\n",
       "1961          10118                                         El Cid\n",
       "1962          9850                              Lawrence of Arabia\n",
       "1963          10443                                      Cleopatra\n",
       "1964          9887                                    My Fair Lady\n",
       "1965          10716                   The Greatest Story Ever Told\n",
       "1966          10824                 The Bible: In the Beginning...\n",
       "1967          10409                                The Dirty Dozen\n",
       "1968          9719                           2001: A Space Odyssey\n",
       "1969          10730                              Battle of Britain\n",
       "1970          10656                              Tora! Tora! Tora!\n",
       "1971          9931                        Bedknobs and Broomsticks\n",
       "1972          7295                                         Avanti!\n",
       "1973          10593                                     Robin Hood\n",
       "1974          9785                            The Towering Inferno\n",
       "1975          9836                                  The Hindenburg\n",
       "1976          10218                             The Bad News Bears\n",
       "1977          1364                                        Sorcerer\n",
       "1978          10758                                       Superman\n",
       "1979          7851                                            1941\n",
       "1980          7315                                     Superman II\n",
       "1981          8397                                            Reds\n",
       "1982          8920                                           Annie\n",
       "1983          7993                                  Trading Places\n",
       "1984          7927                                 The Cotton Club\n",
       "1985          6176                                           Shoah\n",
       "1986          10483                                        Pirates\n",
       "1987          9598                            The Living Daylights\n",
       "1988          9461                         Who Framed Roger Rabbit\n",
       "1989          9189                                       The Abyss\n",
       "1990          9980                                      Die Hard 2\n",
       "1991          9317                      Terminator 2: Judgment Day\n",
       "1992          8245                                  Batman Returns\n",
       "1993          10230                               Last Action Hero\n",
       "1994          4186                                       True Lies\n",
       "1995          8089                                      Waterworld\n",
       "1996          8464                     The Hunchback of Notre Dame\n",
       "1997          5231                                         Titanic\n",
       "1998          8970                                      Armageddon\n",
       "1999          2434                                  Wild Wild West\n",
       "2000          8671                                        Dinosaur\n",
       "2001          2722                                Band of Brothers\n",
       "2002          4041                                           Taken\n",
       "2003          4959              Terminator 3: Rise of the Machines\n",
       "2004          7012                                    Spider-Man 2\n",
       "2005          6215                                       King Kong\n",
       "2006          6570                                Superman Returns\n",
       "2007          7387        Pirates of the Caribbean: At World's End\n",
       "2008          2902        The Chronicles of Narnia: Prince Caspian\n",
       "2009          1389          Harry Potter and the Half-Blood Prince\n",
       "2010          2244                               The Warrior's Way\n",
       "2011          3375     Pirates of the Caribbean: On Stranger Tides\n",
       "2012          4411                                     John Carter\n",
       "2013          5508                                 The Lone Ranger\n",
       "2014          643                       X-Men: Days of Future Past\n",
       "2015          14                           Avengers: Age of Ultron\n",
       "Name: original_title, dtype: object"
      ]
     },
     "execution_count": 62,
     "metadata": {},
     "output_type": "execute_result"
    }
   ],
   "source": [
    "movies.groupby('release_year').apply(sort_by_budget) #group by the release year"
   ]
  },
  {
   "cell_type": "markdown",
   "metadata": {},
   "source": [
    "Comment on the results: <br>\n",
    "The results make sense because all of these movies are known for being huge productions."
   ]
  },
  {
   "cell_type": "markdown",
   "metadata": {},
   "source": [
    "### What is the highest-grossing movie of each year between 1960 and 2015?"
   ]
  },
  {
   "cell_type": "code",
   "execution_count": 63,
   "metadata": {},
   "outputs": [],
   "source": [
    "profit = movies.copy() #Copy the movies dataframe"
   ]
  },
  {
   "cell_type": "markdown",
   "metadata": {},
   "source": [
    "For simplicity, we'll consider Profit = Revenue - Budget"
   ]
  },
  {
   "cell_type": "code",
   "execution_count": 64,
   "metadata": {},
   "outputs": [],
   "source": [
    "profit['gross_profit'] = movies['revenue_adj'].sub(movies['budget_adj'],axis = 'index')"
   ]
  },
  {
   "cell_type": "code",
   "execution_count": 65,
   "metadata": {},
   "outputs": [],
   "source": [
    "def sort_by_profit(df):\n",
    "    return df.sort_values(by = 'gross_profit', ascending = False)['original_title'].head(1)"
   ]
  },
  {
   "cell_type": "code",
   "execution_count": 66,
   "metadata": {},
   "outputs": [
    {
     "data": {
      "text/plain": [
       "release_year       \n",
       "1960          10143                                        Spartacus\n",
       "1961          10110                   One Hundred and One Dalmatians\n",
       "1962          9849                                            Dr. No\n",
       "1963          10438                            From Russia With Love\n",
       "1964          9881                                        Goldfinger\n",
       "1965          10690                               The Sound of Music\n",
       "1966          10824                   The Bible: In the Beginning...\n",
       "1967          10398                                  The Jungle Book\n",
       "1968          9719                             2001: A Space Odyssey\n",
       "1969          10725               Butch Cassidy and the Sundance Kid\n",
       "1970          10654                                       Love Story\n",
       "1971          9925                              Diamonds Are Forever\n",
       "1972          7269                                     The Godfather\n",
       "1973          10594                                     The Exorcist\n",
       "1974          9767                                   Blazing Saddles\n",
       "1975          9806                                              Jaws\n",
       "1976          10208                                   A Star Is Born\n",
       "1977          1329                                         Star Wars\n",
       "1978          10758                                         Superman\n",
       "1979          7833                                          Rocky II\n",
       "1980          7309                           The Empire Strikes Back\n",
       "1981          8375                           Raiders of the Lost Ark\n",
       "1982          8889                        E.T. the Extra-Terrestrial\n",
       "1983          7987                                Return of the Jedi\n",
       "1984          7883              Indiana Jones and the Temple of Doom\n",
       "1985          6081                                Back to the Future\n",
       "1986          10475                                          Top Gun\n",
       "1987          9613                                  Fatal Attraction\n",
       "1988          9454                                          Rain Man\n",
       "1989          9180                Indiana Jones and the Last Crusade\n",
       "1990          9986                                             Ghost\n",
       "1991          9317                        Terminator 2: Judgment Day\n",
       "1992          8243                                           Aladdin\n",
       "1993          10223                                    Jurassic Park\n",
       "1994          4180                                     The Lion King\n",
       "1995          8094                                           The Net\n",
       "1996          8457                                  Independence Day\n",
       "1997          5231                                           Titanic\n",
       "1998          8970                                        Armageddon\n",
       "1999          2412         Star Wars: Episode I - The Phantom Menace\n",
       "2000          8666                            Mission: Impossible II\n",
       "2001          2634          Harry Potter and the Philosopher's Stone\n",
       "2002          3911             The Lord of the Rings: The Two Towers\n",
       "2003          4949     The Lord of the Rings: The Return of the King\n",
       "2004          6977                                           Shrek 2\n",
       "2005          6190               Harry Potter and the Goblet of Fire\n",
       "2006          6555        Pirates of the Caribbean: Dead Man's Chest\n",
       "2007          7388         Harry Potter and the Order of the Phoenix\n",
       "2008          2875                                   The Dark Knight\n",
       "2009          1386                                            Avatar\n",
       "2010          1930                                       Toy Story 3\n",
       "2011          3374      Harry Potter and the Deathly Hallows: Part 2\n",
       "2012          4361                                      The Avengers\n",
       "2013          5422                                            Frozen\n",
       "2014          634          The Hobbit: The Battle of the Five Armies\n",
       "2015          3                         Star Wars: The Force Awakens\n",
       "Name: original_title, dtype: object"
      ]
     },
     "execution_count": 66,
     "metadata": {},
     "output_type": "execute_result"
    }
   ],
   "source": [
    "profit.groupby('release_year').apply(sort_by_profit)"
   ]
  },
  {
   "cell_type": "markdown",
   "metadata": {},
   "source": [
    "Comment on the results: <br>\n",
    "The results also make sense because most of these movies are listed above as the biggest productions of their respective release years."
   ]
  },
  {
   "cell_type": "markdown",
   "metadata": {},
   "source": [
    "### What is the general trend between popularity and the vote count?"
   ]
  },
  {
   "cell_type": "code",
   "execution_count": 67,
   "metadata": {},
   "outputs": [
    {
     "data": {
      "image/png": "[encoded data removed]",
      "text/plain": [
       "<matplotlib.figure.Figure at 0x7f2c6c111f28>"
      ]
     },
     "metadata": {
      "needs_background": "light"
     },
     "output_type": "display_data"
    }
   ],
   "source": [
    "plt.figure(figsize = (10,10));\n",
    "sns.regplot(x = 'vote_count' , y = 'popularity', data = profit);\n",
    "plt.xlabel('Vote Count' , fontsize = 15);\n",
    "plt.ylabel('Popularity Score', fontsize =15);\n",
    "plt.title('Vote Count vs Popularity Score', fontsize = 15);"
   ]
  },
  {
   "cell_type": "markdown",
   "metadata": {},
   "source": [
    "Comment on the results: <br>\n",
    "As expected, the more popular a movie is the more vote counts it gets, and vice versa."
   ]
  },
  {
   "cell_type": "markdown",
   "metadata": {},
   "source": [
    "### What is the general trend between Release Year and Popularity?"
   ]
  },
  {
   "cell_type": "markdown",
   "metadata": {},
   "source": [
    "We group by the release year and take the mean of all numerical columns"
   ]
  },
  {
   "cell_type": "code",
   "execution_count": 68,
   "metadata": {},
   "outputs": [],
   "source": [
    "year_vs_pop = movies.groupby('release_year').mean()"
   ]
  },
  {
   "cell_type": "code",
   "execution_count": 69,
   "metadata": {},
   "outputs": [],
   "source": [
    "year_vs_pop['release_year'] = year_vs_pop.index.get_level_values(0)"
   ]
  },
  {
   "cell_type": "code",
   "execution_count": 70,
   "metadata": {},
   "outputs": [
    {
     "data": {
      "image/png": "[encoded data removed]",
      "text/plain": [
       "<matplotlib.figure.Figure at 0x7f2c6be894a8>"
      ]
     },
     "metadata": {
      "needs_background": "light"
     },
     "output_type": "display_data"
    }
   ],
   "source": [
    "plt.figure(figsize = (10,10));\n",
    "sns.regplot(x = 'release_year' , y = 'popularity', data = year_vs_pop);\n",
    "plt.xlabel('Release Year', fontsize = 15); \n",
    "plt.ylabel('Popularity', fontsize = 15);\n",
    "plt.title('Release Year vs Popularity ',fontsize = 15);"
   ]
  },
  {
   "cell_type": "markdown",
   "metadata": {},
   "source": [
    "Comment on the results: <br>\n",
    "The more recent a movie is the more likely it is popular."
   ]
  },
  {
   "cell_type": "markdown",
   "metadata": {},
   "source": [
    "### How did the movies budgets change over the years?"
   ]
  },
  {
   "cell_type": "code",
   "execution_count": 147,
   "metadata": {},
   "outputs": [
    {
     "data": {
      "image/png": "[encoded data removed]",
      "text/plain": [
       "<matplotlib.figure.Figure at 0x7f2c6a946d68>"
      ]
     },
     "metadata": {
      "needs_background": "light"
     },
     "output_type": "display_data"
    }
   ],
   "source": [
    "plt.figure(figsize = (20,10))\n",
    "ax = sns.pointplot(x=\"release_year\", y=\"budget\", data=movies);\n",
    "ax.set_xticklabels(ax.get_xticklabels(), rotation = 90);\n",
    "plt.xlabel('Years',fontsize = 15);\n",
    "plt.ylabel('Budget in USD',fontsize = 15);\n",
    "plt.title('Movies Budgets Between 1960 and 2015',fontsize = 15);"
   ]
  },
  {
   "cell_type": "code",
   "execution_count": 148,
   "metadata": {
    "scrolled": false
   },
   "outputs": [
    {
     "data": {
      "image/png": "[encoded data removed]",
      "text/plain": [
       "<matplotlib.figure.Figure at 0x7f2c6a8bc668>"
      ]
     },
     "metadata": {
      "needs_background": "light"
     },
     "output_type": "display_data"
    }
   ],
   "source": [
    "plt.figure(figsize = (20,10))\n",
    "ax = sns.pointplot(x=\"release_year\", y=\"budget_adj\", data=movies);\n",
    "ax.set_xticklabels(ax.get_xticklabels(), rotation = 90);\n",
    "plt.xlabel('Years',fontsize = 15);\n",
    "plt.ylabel('Budget in USD',fontsize = 15);\n",
    "plt.title('Movies Budgets Between 1960 and 2015 using 2010 Inflation-adjusted Budget Values',fontsize = 15);"
   ]
  },
  {
   "cell_type": "markdown",
   "metadata": {},
   "source": [
    "Comment on the results: <br>\n",
    "Using the actual budget values, it seems that making movies in the 60s to 90s was cheaper than making movies in the 2000s to 2010s. However, when we use the inflation-adjusted values for budgets, it looks like making movies in the 2000s and 2010s is cheaper."
   ]
  },
  {
   "cell_type": "markdown",
   "metadata": {},
   "source": [
    "### How many movies were released per month?"
   ]
  },
  {
   "cell_type": "code",
   "execution_count": 72,
   "metadata": {},
   "outputs": [
    {
     "data": {
      "text/plain": [
       "9     1203\n",
       "10    1032\n",
       "12     894\n",
       "8      842\n",
       "6      765\n",
       "1      747\n",
       "5      740\n",
       "3      738\n",
       "11     735\n",
       "4      722\n",
       "7      713\n",
       "2      628\n",
       "Name: release_month, dtype: int64"
      ]
     },
     "execution_count": 72,
     "metadata": {},
     "output_type": "execute_result"
    }
   ],
   "source": [
    "movies['release_month'].value_counts()"
   ]
  },
  {
   "cell_type": "code",
   "execution_count": 73,
   "metadata": {},
   "outputs": [
    {
     "data": {
      "image/png": "[encoded data removed]",
      "text/plain": [
       "<matplotlib.figure.Figure at 0x7f2c6bcd1cc0>"
      ]
     },
     "metadata": {
      "needs_background": "light"
     },
     "output_type": "display_data"
    }
   ],
   "source": [
    "months = movies['release_month'].unique()\n",
    "plt.figure(figsize = (10,5));\n",
    "movies['release_month'].plot.hist(bins=12, alpha=0.5);\n",
    "plt.xticks(np.arange(min(months), max(months)+1, 1));\n",
    "plt.xlabel('Month', fontsize = 15); \n",
    "plt.ylabel('Number of Movies', fontsize = 15);\n",
    "plt.title('Number of Movies Released by Month',fontsize = 15);"
   ]
  },
  {
   "cell_type": "markdown",
   "metadata": {},
   "source": [
    "Comment on the results: <br>\n",
    "The most movie releases happen in September, October, and December."
   ]
  },
  {
   "cell_type": "markdown",
   "metadata": {},
   "source": [
    "### What is the average runtime of movies? And what is the most common runtime?\n"
   ]
  },
  {
   "cell_type": "code",
   "execution_count": 151,
   "metadata": {},
   "outputs": [],
   "source": [
    "runtime_mean = movies['runtime'].mean()"
   ]
  },
  {
   "cell_type": "code",
   "execution_count": 152,
   "metadata": {},
   "outputs": [
    {
     "data": {
      "text/plain": [
       "Text(113.37,1453.41,'Mean: 103.06')"
      ]
     },
     "execution_count": 152,
     "metadata": {},
     "output_type": "execute_result"
    },
    {
     "data": {
      "image/png": "[encoded data removed]",
      "text/plain": [
       "<matplotlib.figure.Figure at 0x7f2c6bdaa1d0>"
      ]
     },
     "metadata": {
      "needs_background": "light"
     },
     "output_type": "display_data"
    }
   ],
   "source": [
    "plt.figure(figsize = (10,10));\n",
    "binval = np.arange(0,200,5)\n",
    "y, x, _ = plt.hist(movies['runtime'],bins = binval);\n",
    "plt.xlabel('Runtime in Minutes', fontsize = 15); \n",
    "plt.ylabel('Number of Movies', fontsize = 15);\n",
    "plt.title('Runtime of All Released Movies Between 1960 and 2015',fontsize = 15);\n",
    "plt.axvline(runtime_mean, color='k', linestyle='dashed', linewidth=1)\n",
    "min_ylim, max_ylim = plt.ylim()\n",
    "plt.text(runtime_mean*1.1, max_ylim*0.9, 'Mean: {:.2f}'.format(runtime_mean))"
   ]
  },
  {
   "cell_type": "markdown",
   "metadata": {},
   "source": [
    "Comment on the results: <br>"
   ]
  },
  {
   "cell_type": "code",
   "execution_count": 155,
   "metadata": {},
   "outputs": [
    {
     "name": "stdout",
     "output_type": "stream",
     "text": [
      "Most common runtime for movies is between 90 and 95 minutes long, and the average runtime is 103.06 minutes.\n"
     ]
    }
   ],
   "source": [
    "print('Most common runtime for movies is between {} and {} minutes long, and the average runtime is {:.2f} minutes.'.format(int(x[np.where(y == y.max())]), int(x[np.where(y == y.max())])+5, runtime_mean))"
   ]
  },
  {
   "cell_type": "markdown",
   "metadata": {},
   "source": [
    "### What are the production companies with the most releases?"
   ]
  },
  {
   "cell_type": "code",
   "execution_count": 77,
   "metadata": {},
   "outputs": [],
   "source": [
    "vals = [col for col in df if col.startswith('production_companies_')]\n",
    "production_companies_freq = pd.melt(production_companies, value_vars=vals, value_name='production_companies')"
   ]
  },
  {
   "cell_type": "code",
   "execution_count": 78,
   "metadata": {},
   "outputs": [
    {
     "data": {
      "text/plain": [
       "Universal Pictures                        522\n",
       "Warner Bros.                              509\n",
       "Paramount Pictures                        431\n",
       "Twentieth Century Fox Film Corporation    282\n",
       "Columbia Pictures                         272\n",
       "New Line Cinema                           219\n",
       "Metro-Goldwyn-Mayer (MGM)                 218\n",
       "Walt Disney Pictures                      213\n",
       "Touchstone Pictures                       178\n",
       "Columbia Pictures Corporation             160\n",
       "TriStar Pictures                          147\n",
       "Miramax Films                             139\n",
       "Relativity Media                          108\n",
       "Regency Enterprises                        95\n",
       "Canal+                                     92\n",
       "DreamWorks SKG                             88\n",
       "20th Century Fox                           88\n",
       "Village Roadshow Pictures                  88\n",
       "BBC Films                                  87\n",
       "Dimension Films                            82\n",
       "United Artists                             76\n",
       "Orion Pictures                             72\n",
       "Fox Searchlight Pictures                   68\n",
       "Castle Rock Entertainment                  68\n",
       "Working Title Films                        67\n",
       "Amblin Entertainment                       65\n",
       "StudioCanal                                64\n",
       "Lionsgate                                  63\n",
       "Summit Entertainment                       62\n",
       "Fox 2000 Pictures                          58\n",
       "Name: production_companies, dtype: int64"
      ]
     },
     "execution_count": 78,
     "metadata": {},
     "output_type": "execute_result"
    }
   ],
   "source": [
    "production_companies_freq['production_companies'].value_counts(ascending=False)[0:30]"
   ]
  },
  {
   "cell_type": "markdown",
   "metadata": {},
   "source": [
    "Comment on the results: <br>\n",
    "The production companies with the most releases are Universal Pictures, Warner Bros., and Paramount Pictures."
   ]
  },
  {
   "cell_type": "markdown",
   "metadata": {},
   "source": [
    "### What are the most popular and the least popular movies?"
   ]
  },
  {
   "cell_type": "code",
   "execution_count": 79,
   "metadata": {},
   "outputs": [],
   "source": [
    "most_popular = movies.sort_values(by = 'popularity', ascending = False)[0:20]"
   ]
  },
  {
   "cell_type": "code",
   "execution_count": 80,
   "metadata": {},
   "outputs": [
    {
     "data": {
      "image/png": "[encoded data removed]",
      "text/plain": [
       "<matplotlib.figure.Figure at 0x7f2c6bb29b00>"
      ]
     },
     "metadata": {
      "needs_background": "light"
     },
     "output_type": "display_data"
    }
   ],
   "source": [
    "plt.figure(figsize=(20,10))\n",
    "ax=sns.barplot(x = 'original_title' , y = 'popularity', data=most_popular)\n",
    "plt.tight_layout()\n",
    "ax.set_xticklabels(ax.get_xticklabels(), rotation=90)\n",
    "plt.xlabel('Movies', fontsize = 15)\n",
    "plt.ylabel('Popularity Score', fontsize = 15)\n",
    "plt.title('Most Popular Movies', fontsize = 15)\n",
    "plt.show()"
   ]
  },
  {
   "cell_type": "markdown",
   "metadata": {},
   "source": [
    "Comment on the results: <br>\n",
    "The most popular movies are: Jurassic World, Mad Max: Fury Road, and Interstellar."
   ]
  },
  {
   "cell_type": "code",
   "execution_count": 81,
   "metadata": {},
   "outputs": [],
   "source": [
    "least_popular = movies.sort_values(by = 'popularity', ascending = True)[0:20]"
   ]
  },
  {
   "cell_type": "code",
   "execution_count": 82,
   "metadata": {},
   "outputs": [
    {
     "data": {
      "image/png": "[encoded data removed]",
      "text/plain": [
       "<matplotlib.figure.Figure at 0x7f2c6ba4f160>"
      ]
     },
     "metadata": {
      "needs_background": "light"
     },
     "output_type": "display_data"
    }
   ],
   "source": [
    "plt.figure(figsize=(20,10))\n",
    "ax=sns.barplot(x = 'original_title' , y = 'popularity', data=least_popular)\n",
    "plt.tight_layout()\n",
    "ax.set_xticklabels(ax.get_xticklabels(), rotation=90)\n",
    "plt.xlabel('Movies', fontsize = 15)\n",
    "plt.ylabel('Popularity Score', fontsize = 15)\n",
    "plt.title('Least Popular Movies', fontsize = 15)\n",
    "plt.show()"
   ]
  },
  {
   "cell_type": "markdown",
   "metadata": {},
   "source": [
    "Comment on the results: <br>\n",
    "The least popular movies are: The Hospital, G.B.F, and Mon petit doigt m'a dit."
   ]
  },
  {
   "cell_type": "markdown",
   "metadata": {},
   "source": [
    "### Who are the most popular movie stars?"
   ]
  },
  {
   "cell_type": "markdown",
   "metadata": {},
   "source": [
    "We use the most popular 500 movies and extract the cast of each movie from cast_1 to cast_5"
   ]
  },
  {
   "cell_type": "code",
   "execution_count": 83,
   "metadata": {},
   "outputs": [],
   "source": [
    "most_popular = movies.sort_values(by = 'popularity', ascending = False)[0:500]\n",
    "cols = ['cast_1', 'cast_2', 'cast_3', 'cast_4', 'cast_5']\n",
    "new_df = pd.DataFrame(most_popular[cols].values.tolist(), index=most_popular.popularity).stack()\n",
    "new_df = new_df.reset_index([0, 'popularity'])\n",
    "new_df.columns = ['popularity', 'cast']"
   ]
  },
  {
   "cell_type": "markdown",
   "metadata": {},
   "source": [
    "We add up the popularity score for the movie stars to add the score for those whose names appear more than once"
   ]
  },
  {
   "cell_type": "code",
   "execution_count": 84,
   "metadata": {},
   "outputs": [],
   "source": [
    "new_df['tot_pop'] = new_df.groupby(['cast'], as_index=False)['popularity'].cumsum()"
   ]
  },
  {
   "cell_type": "markdown",
   "metadata": {},
   "source": [
    "We drop the duplicated names and keep the names with the cumulative score (last)"
   ]
  },
  {
   "cell_type": "code",
   "execution_count": 85,
   "metadata": {},
   "outputs": [],
   "source": [
    "new_df = new_df.drop_duplicates(subset='cast', keep='last')"
   ]
  },
  {
   "cell_type": "markdown",
   "metadata": {},
   "source": [
    "We sort the values and plot the results"
   ]
  },
  {
   "cell_type": "code",
   "execution_count": 86,
   "metadata": {},
   "outputs": [],
   "source": [
    "new_df = new_df.sort_values(by='tot_pop', ascending = False)"
   ]
  },
  {
   "cell_type": "code",
   "execution_count": 87,
   "metadata": {},
   "outputs": [],
   "source": [
    "new_df = new_df[0:20]"
   ]
  },
  {
   "cell_type": "code",
   "execution_count": 88,
   "metadata": {},
   "outputs": [
    {
     "data": {
      "image/png": "[encoded data removed]",
      "text/plain": [
       "<matplotlib.figure.Figure at 0x7f2c6bc63d30>"
      ]
     },
     "metadata": {
      "needs_background": "light"
     },
     "output_type": "display_data"
    }
   ],
   "source": [
    "plt.figure(figsize=(20,10))\n",
    "ax=sns.barplot(x = 'cast' , y = 'tot_pop', data=new_df)\n",
    "ax.set_xticklabels(ax.get_xticklabels(), rotation=90)\n",
    "plt.xlabel('Cast', fontsize=15)\n",
    "plt.ylabel('Popularity Score', fontsize=15)\n",
    "plt.title('Most Popular Casts Based on the 500 Most Popular Movies', fontsize=15)\n",
    "plt.show()"
   ]
  },
  {
   "cell_type": "markdown",
   "metadata": {},
   "source": [
    "Comment on the results: <br>\n",
    "The most popular movie stars are: Harrison Ford, Michael Caine, and Ian Mckellen."
   ]
  },
  {
   "cell_type": "markdown",
   "metadata": {},
   "source": [
    "### How did the number of released movies change over the years?"
   ]
  },
  {
   "cell_type": "code",
   "execution_count": 89,
   "metadata": {},
   "outputs": [],
   "source": [
    "df_years = movies.copy()"
   ]
  },
  {
   "cell_type": "markdown",
   "metadata": {},
   "source": [
    "We get the unique years, then for each year we get the total number of movies and plot the results"
   ]
  },
  {
   "cell_type": "code",
   "execution_count": 90,
   "metadata": {},
   "outputs": [],
   "source": [
    "number_of_movies = []\n",
    "years = df_years['release_year'].unique()\n",
    "\n",
    "for year in years:\n",
    "    y = df_years[df_years['release_year'] == year]\n",
    "    x = len(y.index)\n",
    "    number_of_movies.append((year, x))"
   ]
  },
  {
   "cell_type": "code",
   "execution_count": 91,
   "metadata": {
    "scrolled": false
   },
   "outputs": [
    {
     "data": {
      "image/png": "[encoded data removed]",
      "text/plain": [
       "<matplotlib.figure.Figure at 0x7f2c6bbf07f0>"
      ]
     },
     "metadata": {
      "needs_background": "light"
     },
     "output_type": "display_data"
    }
   ],
   "source": [
    "df_number_of_movies = pd.DataFrame(number_of_movies, columns=['release_year', 'number_of_movies']).sort_values('release_year').reset_index().drop(['index'], axis=1)\n",
    "df_number_of_movies.plot(x='release_year', y='number_of_movies', kind='line', figsize=(15,10), title=\"Number of released movies over the years\", label='Number of movies per year')\n",
    "plt.xlabel('Year', fontsize=15)\n",
    "plt.ylabel('Number of Movies', fontsize=15);"
   ]
  },
  {
   "cell_type": "markdown",
   "metadata": {},
   "source": [
    "Comment on the results: <br>\n",
    "The number of movies released every year has been generally increasing from 1960 to 2015, with a significant increase between 2000 and 2010."
   ]
  },
  {
   "cell_type": "markdown",
   "metadata": {},
   "source": [
    "We can also plot the results as a bar plot, ordered from the year with the most releases to the year with the least releases."
   ]
  },
  {
   "cell_type": "code",
   "execution_count": 92,
   "metadata": {},
   "outputs": [],
   "source": [
    "order = movies['release_year'].value_counts().index"
   ]
  },
  {
   "cell_type": "code",
   "execution_count": 93,
   "metadata": {},
   "outputs": [
    {
     "data": {
      "image/png": "[encoded data removed]",
      "text/plain": [
       "<matplotlib.figure.Figure at 0x7f2c6ba0d390>"
      ]
     },
     "metadata": {
      "needs_background": "light"
     },
     "output_type": "display_data"
    }
   ],
   "source": [
    "plt.figure(figsize=(18, 8))\n",
    "ax=sns.countplot(x = 'release_year', data = movies, order = order);\n",
    "ax.set_xticklabels(ax.get_xticklabels(),rotation = 90);\n",
    "plt.xlabel('Release Year', fontsize=15);\n",
    "plt.ylabel('No. of Movies', fontsize=15);\n",
    "plt.title('No. of Movies Released by Year', fontsize=15);"
   ]
  },
  {
   "cell_type": "markdown",
   "metadata": {},
   "source": [
    "Comment on the results: <br>\n",
    "Between 1960 and 2015, the years with the most movie releases are 2014, 2013, and 2015. The years with the least movie releases are 1961, 1962, and 1969."
   ]
  },
  {
   "cell_type": "markdown",
   "metadata": {},
   "source": [
    "### What are the properties of each category of movies based on the movie budget?"
   ]
  },
  {
   "cell_type": "code",
   "execution_count": 94,
   "metadata": {},
   "outputs": [],
   "source": [
    "def get_levels(df, df_column_raw, df_column_lvl, bins, bin_labels):\n",
    "    levels = {} #to store the levels\n",
    "    \n",
    "    for level in bin_labels:\n",
    "        movie_lvl = df[df_column_lvl == level]\n",
    "        \n",
    "        #means\n",
    "        avg_duration = movie_lvl['runtime'].mean()\n",
    "        avg_budget = movie_lvl['budget_adj'].mean()\n",
    "        avg_revenue = movie_lvl['revenue_adj'].mean()\n",
    "        avg_vote = movie_lvl['vote_average'].mean()\n",
    "        avg_vote_count = movie_lvl['vote_count'].mean()\n",
    "        avg_pop = movie_lvl['popularity'].mean()\n",
    "\n",
    "        #director\n",
    "        director = movie_lvl.loc[:, 'director_1': 'director_5']\n",
    "        freq_director = director.stack().value_counts().idxmax()\n",
    "        #cast\n",
    "        cast = movie_lvl.loc[:, 'cast_1': 'cast_5']\n",
    "        freq_cast = cast.stack().value_counts().idxmax()\n",
    "        #genres\n",
    "        genres = movie_lvl.loc[:, 'genres_1': 'genres_5']\n",
    "        freq_genres = genres.stack().value_counts().idxmax()\n",
    "        #production companies\n",
    "        production = movie_lvl.loc[:, 'production_companies_1': 'production_companies_5']\n",
    "        freq_production = production.stack().value_counts().idxmax()\n",
    "        #release_year\n",
    "        release_year = movie_lvl['release_year'].value_counts().idxmax()\n",
    "\n",
    "        #nested dictionary\n",
    "        levels[level] = { 'Average Duration (in minutes)' : avg_duration, \n",
    "                                'Average Budget (in USD)' : avg_budget, \n",
    "                                'Average Revenue (in USD)' : avg_revenue, \n",
    "                                'Average Votes Count' : avg_vote_count,\n",
    "                                'Average Vote out of 10' : avg_vote,\n",
    "                                'Average Popularity Score' : avg_pop,\n",
    "                                'Most Frequent Genre' : freq_genres,\n",
    "                                'Most Frequent Cast' : freq_cast,\n",
    "                                'Most Frequent Director' : freq_director, \n",
    "                                'Most Frequent Release Year' : release_year,\n",
    "                                'Most Frequent Production Company' : freq_production}\n",
    "\n",
    "    movie_classes = []\n",
    "    frames = []\n",
    "\n",
    "    for movie_class, d in levels.items():\n",
    "        movie_classes.append(movie_class)\n",
    "        frames.append(pd.DataFrame.from_dict(d, orient='index'))\n",
    "\n",
    "    properties = pd.concat(frames, keys=movie_classes)  \n",
    "    properties.columns = ['Result']\n",
    "    return properties"
   ]
  },
  {
   "cell_type": "code",
   "execution_count": 157,
   "metadata": {
    "scrolled": false
   },
   "outputs": [
    {
     "data": {
      "text/plain": [
       "count    9.759000e+03\n",
       "mean     2.987047e+07\n",
       "std      3.328482e+07\n",
       "min      0.000000e+00\n",
       "25%      9.519816e+06\n",
       "50%      2.261721e+07\n",
       "75%      3.556058e+07\n",
       "max      4.250000e+08\n",
       "Name: budget_adj, dtype: float64"
      ]
     },
     "execution_count": 157,
     "metadata": {},
     "output_type": "execute_result"
    }
   ],
   "source": [
    "df_rev_adj = movies.copy()\n",
    "df_rev_adj['budget_adj'].describe()"
   ]
  },
  {
   "cell_type": "code",
   "execution_count": 158,
   "metadata": {},
   "outputs": [],
   "source": [
    "bins = [df_rev_adj['budget_adj'].describe()[3],\n",
    "        df_rev_adj['budget_adj'].describe()[4],\n",
    "        df_rev_adj['budget_adj'].describe()[6],\n",
    "        df_rev_adj['budget_adj'].describe()[7]]\n",
    "bin_labels = ['Low Budget', 'Moderate Budget', 'High Budget']\n",
    "df_rev_adj['budget_level'] = pd.cut(df_rev_adj['budget_adj'], bins, labels=bin_labels)"
   ]
  },
  {
   "cell_type": "code",
   "execution_count": 159,
   "metadata": {},
   "outputs": [
    {
     "data": {
      "text/html": [
       "<div>\n",
       "<style scoped>\n",
       "    .dataframe tbody tr th:only-of-type {\n",
       "        vertical-align: middle;\n",
       "    }\n",
       "\n",
       "    .dataframe tbody tr th {\n",
       "        vertical-align: top;\n",
       "    }\n",
       "\n",
       "    .dataframe thead th {\n",
       "        text-align: right;\n",
       "    }\n",
       "</style>\n",
       "<table border=\"1\" class=\"dataframe\">\n",
       "  <thead>\n",
       "    <tr style=\"text-align: right;\">\n",
       "      <th></th>\n",
       "      <th></th>\n",
       "      <th>Result</th>\n",
       "    </tr>\n",
       "  </thead>\n",
       "  <tbody>\n",
       "    <tr>\n",
       "      <th rowspan=\"11\" valign=\"top\">Low Budget</th>\n",
       "      <th>Average Duration (in minutes)</th>\n",
       "      <td>95.9335</td>\n",
       "    </tr>\n",
       "    <tr>\n",
       "      <th>Average Budget (in USD)</th>\n",
       "      <td>4.36763e+06</td>\n",
       "    </tr>\n",
       "    <tr>\n",
       "      <th>Average Revenue (in USD)</th>\n",
       "      <td>2.11764e+07</td>\n",
       "    </tr>\n",
       "    <tr>\n",
       "      <th>Average Votes Count</th>\n",
       "      <td>108.877</td>\n",
       "    </tr>\n",
       "    <tr>\n",
       "      <th>Average Vote out of 10</th>\n",
       "      <td>5.91243</td>\n",
       "    </tr>\n",
       "    <tr>\n",
       "      <th>Average Popularity Score</th>\n",
       "      <td>0.488001</td>\n",
       "    </tr>\n",
       "    <tr>\n",
       "      <th>Most Frequent Genre</th>\n",
       "      <td>Drama</td>\n",
       "    </tr>\n",
       "    <tr>\n",
       "      <th>Most Frequent Cast</th>\n",
       "      <td>Danny Trejo</td>\n",
       "    </tr>\n",
       "    <tr>\n",
       "      <th>Most Frequent Director</th>\n",
       "      <td>Lauren Montgomery</td>\n",
       "    </tr>\n",
       "    <tr>\n",
       "      <th>Most Frequent Release Year</th>\n",
       "      <td>2014</td>\n",
       "    </tr>\n",
       "    <tr>\n",
       "      <th>Most Frequent Production Company</th>\n",
       "      <td>Paramount Pictures</td>\n",
       "    </tr>\n",
       "    <tr>\n",
       "      <th rowspan=\"11\" valign=\"top\">Moderate Budget</th>\n",
       "      <th>Average Duration (in minutes)</th>\n",
       "      <td>101.838</td>\n",
       "    </tr>\n",
       "    <tr>\n",
       "      <th>Average Budget (in USD)</th>\n",
       "      <td>2.25461e+07</td>\n",
       "    </tr>\n",
       "    <tr>\n",
       "      <th>Average Revenue (in USD)</th>\n",
       "      <td>5.43759e+07</td>\n",
       "    </tr>\n",
       "    <tr>\n",
       "      <th>Average Votes Count</th>\n",
       "      <td>134.721</td>\n",
       "    </tr>\n",
       "    <tr>\n",
       "      <th>Average Vote out of 10</th>\n",
       "      <td>5.95744</td>\n",
       "    </tr>\n",
       "    <tr>\n",
       "      <th>Average Popularity Score</th>\n",
       "      <td>0.540018</td>\n",
       "    </tr>\n",
       "    <tr>\n",
       "      <th>Most Frequent Genre</th>\n",
       "      <td>Drama</td>\n",
       "    </tr>\n",
       "    <tr>\n",
       "      <th>Most Frequent Cast</th>\n",
       "      <td>John Cusack</td>\n",
       "    </tr>\n",
       "    <tr>\n",
       "      <th>Most Frequent Director</th>\n",
       "      <td>Woody Allen</td>\n",
       "    </tr>\n",
       "    <tr>\n",
       "      <th>Most Frequent Release Year</th>\n",
       "      <td>2012</td>\n",
       "    </tr>\n",
       "    <tr>\n",
       "      <th>Most Frequent Production Company</th>\n",
       "      <td>Universal Pictures</td>\n",
       "    </tr>\n",
       "    <tr>\n",
       "      <th rowspan=\"11\" valign=\"top\">High Budget</th>\n",
       "      <th>Average Duration (in minutes)</th>\n",
       "      <td>118.636</td>\n",
       "    </tr>\n",
       "    <tr>\n",
       "      <th>Average Budget (in USD)</th>\n",
       "      <td>7.11349e+07</td>\n",
       "    </tr>\n",
       "    <tr>\n",
       "      <th>Average Revenue (in USD)</th>\n",
       "      <td>1.84787e+08</td>\n",
       "    </tr>\n",
       "    <tr>\n",
       "      <th>Average Votes Count</th>\n",
       "      <td>594.302</td>\n",
       "    </tr>\n",
       "    <tr>\n",
       "      <th>Average Vote out of 10</th>\n",
       "      <td>5.89536</td>\n",
       "    </tr>\n",
       "    <tr>\n",
       "      <th>Average Popularity Score</th>\n",
       "      <td>1.25281</td>\n",
       "    </tr>\n",
       "    <tr>\n",
       "      <th>Most Frequent Genre</th>\n",
       "      <td>Drama</td>\n",
       "    </tr>\n",
       "    <tr>\n",
       "      <th>Most Frequent Cast</th>\n",
       "      <td>Bruce Willis</td>\n",
       "    </tr>\n",
       "    <tr>\n",
       "      <th>Most Frequent Director</th>\n",
       "      <td>Steven Spielberg</td>\n",
       "    </tr>\n",
       "    <tr>\n",
       "      <th>Most Frequent Release Year</th>\n",
       "      <td>2009</td>\n",
       "    </tr>\n",
       "    <tr>\n",
       "      <th>Most Frequent Production Company</th>\n",
       "      <td>Warner Bros.</td>\n",
       "    </tr>\n",
       "  </tbody>\n",
       "</table>\n",
       "</div>"
      ],
      "text/plain": [
       "                                                              Result\n",
       "Low Budget      Average Duration (in minutes)                95.9335\n",
       "                Average Budget (in USD)                  4.36763e+06\n",
       "                Average Revenue (in USD)                 2.11764e+07\n",
       "                Average Votes Count                          108.877\n",
       "                Average Vote out of 10                       5.91243\n",
       "                Average Popularity Score                    0.488001\n",
       "                Most Frequent Genre                            Drama\n",
       "                Most Frequent Cast                       Danny Trejo\n",
       "                Most Frequent Director             Lauren Montgomery\n",
       "                Most Frequent Release Year                      2014\n",
       "                Most Frequent Production Company  Paramount Pictures\n",
       "Moderate Budget Average Duration (in minutes)                101.838\n",
       "                Average Budget (in USD)                  2.25461e+07\n",
       "                Average Revenue (in USD)                 5.43759e+07\n",
       "                Average Votes Count                          134.721\n",
       "                Average Vote out of 10                       5.95744\n",
       "                Average Popularity Score                    0.540018\n",
       "                Most Frequent Genre                            Drama\n",
       "                Most Frequent Cast                       John Cusack\n",
       "                Most Frequent Director                   Woody Allen\n",
       "                Most Frequent Release Year                      2012\n",
       "                Most Frequent Production Company  Universal Pictures\n",
       "High Budget     Average Duration (in minutes)                118.636\n",
       "                Average Budget (in USD)                  7.11349e+07\n",
       "                Average Revenue (in USD)                 1.84787e+08\n",
       "                Average Votes Count                          594.302\n",
       "                Average Vote out of 10                       5.89536\n",
       "                Average Popularity Score                     1.25281\n",
       "                Most Frequent Genre                            Drama\n",
       "                Most Frequent Cast                      Bruce Willis\n",
       "                Most Frequent Director              Steven Spielberg\n",
       "                Most Frequent Release Year                      2009\n",
       "                Most Frequent Production Company        Warner Bros."
      ]
     },
     "execution_count": 159,
     "metadata": {},
     "output_type": "execute_result"
    }
   ],
   "source": [
    "get_levels(df_rev_adj, df_rev_adj['budget_adj'], df_rev_adj['budget_level'], bins, bin_labels)"
   ]
  },
  {
   "cell_type": "markdown",
   "metadata": {},
   "source": [
    "Comment on the results: <br>\n",
    "High Budget movies have significantly better revenue, average popularity scores, and average votes count, however, the budget of a movie is a weak indicator to its avergae vote score."
   ]
  },
  {
   "cell_type": "markdown",
   "metadata": {},
   "source": [
    "### What are the properties of each category of movies based on the movie rating?"
   ]
  },
  {
   "cell_type": "code",
   "execution_count": 98,
   "metadata": {
    "scrolled": false
   },
   "outputs": [
    {
     "data": {
      "text/plain": [
       "count    9759.000000\n",
       "mean        5.964535\n",
       "std         0.912967\n",
       "min         1.500000\n",
       "25%         5.400000\n",
       "50%         6.000000\n",
       "75%         6.600000\n",
       "max         8.700000\n",
       "Name: vote_average, dtype: float64"
      ]
     },
     "execution_count": 98,
     "metadata": {},
     "output_type": "execute_result"
    }
   ],
   "source": [
    "df_rating = movies.copy()\n",
    "df_rating['vote_average'].describe()"
   ]
  },
  {
   "cell_type": "code",
   "execution_count": 99,
   "metadata": {},
   "outputs": [],
   "source": [
    "bins = [df_rating['vote_average'].describe()[3],\n",
    "        df_rating['vote_average'].describe()[4],\n",
    "        df_rating['vote_average'].describe()[6],\n",
    "        df_rating['vote_average'].describe()[7]]\n",
    "bin_labels = ['Low Rating', 'Moderate Rating', 'High Rating']\n",
    "df_rating['vote_level'] = pd.cut(df_rating['vote_average'], bins, labels=bin_labels)"
   ]
  },
  {
   "cell_type": "code",
   "execution_count": 100,
   "metadata": {},
   "outputs": [
    {
     "data": {
      "text/html": [
       "<div>\n",
       "<style scoped>\n",
       "    .dataframe tbody tr th:only-of-type {\n",
       "        vertical-align: middle;\n",
       "    }\n",
       "\n",
       "    .dataframe tbody tr th {\n",
       "        vertical-align: top;\n",
       "    }\n",
       "\n",
       "    .dataframe thead th {\n",
       "        text-align: right;\n",
       "    }\n",
       "</style>\n",
       "<table border=\"1\" class=\"dataframe\">\n",
       "  <thead>\n",
       "    <tr style=\"text-align: right;\">\n",
       "      <th></th>\n",
       "      <th></th>\n",
       "      <th>Result</th>\n",
       "    </tr>\n",
       "  </thead>\n",
       "  <tbody>\n",
       "    <tr>\n",
       "      <th rowspan=\"11\" valign=\"top\">Low Rating</th>\n",
       "      <th>Average Duration (in minutes)</th>\n",
       "      <td>96.0561</td>\n",
       "    </tr>\n",
       "    <tr>\n",
       "      <th>Average Budget (in USD)</th>\n",
       "      <td>2.80579e+07</td>\n",
       "    </tr>\n",
       "    <tr>\n",
       "      <th>Average Revenue (in USD)</th>\n",
       "      <td>3.60747e+07</td>\n",
       "    </tr>\n",
       "    <tr>\n",
       "      <th>Average Votes Count</th>\n",
       "      <td>73.4528</td>\n",
       "    </tr>\n",
       "    <tr>\n",
       "      <th>Average Vote out of 10</th>\n",
       "      <td>4.80661</td>\n",
       "    </tr>\n",
       "    <tr>\n",
       "      <th>Average Popularity Score</th>\n",
       "      <td>0.443139</td>\n",
       "    </tr>\n",
       "    <tr>\n",
       "      <th>Most Frequent Genre</th>\n",
       "      <td>Comedy</td>\n",
       "    </tr>\n",
       "    <tr>\n",
       "      <th>Most Frequent Cast</th>\n",
       "      <td>Jean-Claude Van Damme</td>\n",
       "    </tr>\n",
       "    <tr>\n",
       "      <th>Most Frequent Director</th>\n",
       "      <td>Uwe Boll</td>\n",
       "    </tr>\n",
       "    <tr>\n",
       "      <th>Most Frequent Release Year</th>\n",
       "      <td>2014</td>\n",
       "    </tr>\n",
       "    <tr>\n",
       "      <th>Most Frequent Production Company</th>\n",
       "      <td>Warner Bros.</td>\n",
       "    </tr>\n",
       "    <tr>\n",
       "      <th rowspan=\"11\" valign=\"top\">Moderate Rating</th>\n",
       "      <th>Average Duration (in minutes)</th>\n",
       "      <td>103.779</td>\n",
       "    </tr>\n",
       "    <tr>\n",
       "      <th>Average Budget (in USD)</th>\n",
       "      <td>3.13707e+07</td>\n",
       "    </tr>\n",
       "    <tr>\n",
       "      <th>Average Revenue (in USD)</th>\n",
       "      <td>7.95375e+07</td>\n",
       "    </tr>\n",
       "    <tr>\n",
       "      <th>Average Votes Count</th>\n",
       "      <td>206.742</td>\n",
       "    </tr>\n",
       "    <tr>\n",
       "      <th>Average Vote out of 10</th>\n",
       "      <td>6.0583</td>\n",
       "    </tr>\n",
       "    <tr>\n",
       "      <th>Average Popularity Score</th>\n",
       "      <td>0.667733</td>\n",
       "    </tr>\n",
       "    <tr>\n",
       "      <th>Most Frequent Genre</th>\n",
       "      <td>Drama</td>\n",
       "    </tr>\n",
       "    <tr>\n",
       "      <th>Most Frequent Cast</th>\n",
       "      <td>Susan Sarandon</td>\n",
       "    </tr>\n",
       "    <tr>\n",
       "      <th>Most Frequent Director</th>\n",
       "      <td>Woody Allen</td>\n",
       "    </tr>\n",
       "    <tr>\n",
       "      <th>Most Frequent Release Year</th>\n",
       "      <td>2013</td>\n",
       "    </tr>\n",
       "    <tr>\n",
       "      <th>Most Frequent Production Company</th>\n",
       "      <td>Universal Pictures</td>\n",
       "    </tr>\n",
       "    <tr>\n",
       "      <th rowspan=\"11\" valign=\"top\">High Rating</th>\n",
       "      <th>Average Duration (in minutes)</th>\n",
       "      <td>109.642</td>\n",
       "    </tr>\n",
       "    <tr>\n",
       "      <th>Average Budget (in USD)</th>\n",
       "      <td>2.86414e+07</td>\n",
       "    </tr>\n",
       "    <tr>\n",
       "      <th>Average Revenue (in USD)</th>\n",
       "      <td>1.21595e+08</td>\n",
       "    </tr>\n",
       "    <tr>\n",
       "      <th>Average Votes Count</th>\n",
       "      <td>506.072</td>\n",
       "    </tr>\n",
       "    <tr>\n",
       "      <th>Average Vote out of 10</th>\n",
       "      <td>7.10638</td>\n",
       "    </tr>\n",
       "    <tr>\n",
       "      <th>Average Popularity Score</th>\n",
       "      <td>1.05023</td>\n",
       "    </tr>\n",
       "    <tr>\n",
       "      <th>Most Frequent Genre</th>\n",
       "      <td>Drama</td>\n",
       "    </tr>\n",
       "    <tr>\n",
       "      <th>Most Frequent Cast</th>\n",
       "      <td>Robert De Niro</td>\n",
       "    </tr>\n",
       "    <tr>\n",
       "      <th>Most Frequent Director</th>\n",
       "      <td>Martin Scorsese</td>\n",
       "    </tr>\n",
       "    <tr>\n",
       "      <th>Most Frequent Release Year</th>\n",
       "      <td>2014</td>\n",
       "    </tr>\n",
       "    <tr>\n",
       "      <th>Most Frequent Production Company</th>\n",
       "      <td>Warner Bros.</td>\n",
       "    </tr>\n",
       "  </tbody>\n",
       "</table>\n",
       "</div>"
      ],
      "text/plain": [
       "                                                                 Result\n",
       "Low Rating      Average Duration (in minutes)                   96.0561\n",
       "                Average Budget (in USD)                     2.80579e+07\n",
       "                Average Revenue (in USD)                    3.60747e+07\n",
       "                Average Votes Count                             73.4528\n",
       "                Average Vote out of 10                          4.80661\n",
       "                Average Popularity Score                       0.443139\n",
       "                Most Frequent Genre                              Comedy\n",
       "                Most Frequent Cast                Jean-Claude Van Damme\n",
       "                Most Frequent Director                         Uwe Boll\n",
       "                Most Frequent Release Year                         2014\n",
       "                Most Frequent Production Company           Warner Bros.\n",
       "Moderate Rating Average Duration (in minutes)                   103.779\n",
       "                Average Budget (in USD)                     3.13707e+07\n",
       "                Average Revenue (in USD)                    7.95375e+07\n",
       "                Average Votes Count                             206.742\n",
       "                Average Vote out of 10                           6.0583\n",
       "                Average Popularity Score                       0.667733\n",
       "                Most Frequent Genre                               Drama\n",
       "                Most Frequent Cast                       Susan Sarandon\n",
       "                Most Frequent Director                      Woody Allen\n",
       "                Most Frequent Release Year                         2013\n",
       "                Most Frequent Production Company     Universal Pictures\n",
       "High Rating     Average Duration (in minutes)                   109.642\n",
       "                Average Budget (in USD)                     2.86414e+07\n",
       "                Average Revenue (in USD)                    1.21595e+08\n",
       "                Average Votes Count                             506.072\n",
       "                Average Vote out of 10                          7.10638\n",
       "                Average Popularity Score                        1.05023\n",
       "                Most Frequent Genre                               Drama\n",
       "                Most Frequent Cast                       Robert De Niro\n",
       "                Most Frequent Director                  Martin Scorsese\n",
       "                Most Frequent Release Year                         2014\n",
       "                Most Frequent Production Company           Warner Bros."
      ]
     },
     "execution_count": 100,
     "metadata": {},
     "output_type": "execute_result"
    }
   ],
   "source": [
    "get_levels(df_rating, df_rating['vote_average'], df_rating['vote_level'], bins, bin_labels)"
   ]
  },
  {
   "cell_type": "markdown",
   "metadata": {},
   "source": [
    "Comment on the results: <br>\n",
    "Highly rated movies have significantly better revenue, average popularity scores, and average votes count, but the average budget is not an indicator on the movie vote score (as seen earlier, the correlation factor between vote_average and budget_adj is close to zero (0.02))."
   ]
  },
  {
   "cell_type": "markdown",
   "metadata": {},
   "source": [
    "<a id='conclusions'></a>\n",
    "## Conclusions"
   ]
  },
  {
   "cell_type": "markdown",
   "metadata": {},
   "source": [
    "### The questions this EDA explored and a summary of their findings: <br>\n",
    "1. What attributes have the highest correlation between each other? <br>\n",
    "The highest correlations are budget-budget_adj and revenue-revenue_adj which is expected since they are dependent on each other. However, remarkably high correlations are popularity-vote_count, revenue-vote_count, and budget-revenue. <br>\n",
    "2. What genre was the most released each year? And how many movies were released under each genre? <br>\n",
    "Most of the movies released every year from 1960 to 2015 fall under the Drama genre, except for 11 years in this 55-year-long period when the most releases were Comedy movies.\n",
    "The most releases between 1960 and 2015 are Drama and Comedy movies, while the least releases are in the TV Movie and Foreign genres. <br>\n",
    "3. What is the average rating of each genre? <br>\n",
    "The Documentary genre has the highest average rating (vote score), while the Horror genre receives in average the least rating among all the genres. <br>\n",
    "4. What is the biggest production of each year from 1960 to 2015? <br>\n",
    "As listed above. <br>\n",
    "5. What is the highest-grossing movie of each year between 1960 and 2015? <br>\n",
    "As listed above. \n",
    "The results make sense because most of these movies are also listed as the biggest productions of their respective release years. <br>\n",
    "6. What is the general trend between popularity and the vote count? <br>\n",
    "As expected, the more popular a movie is the more vote counts it gets, and vice versa. <br>\n",
    "7. What is the general trend between Release Year and Popularity? <br>\n",
    "The more recent a movie is the more likely it is popular. <br>\n",
    "8. How did the movies budgets change over the years? <br>\n",
    "Using the actual budget values, it seems that making movies in the 60s to 90s was cheaper than making movies in the 2000s to 2010s. However, when we use the inflation-adjusted values for budgets, it looks like making movies in the 2000s and 2010s is cheaper. <br>\n",
    "9. How many movies were released per month? <br>\n",
    "The most movie releases happen in September, October, and December. <br>\n",
    "10. What is the average runtime of movies? And what is the most common runtime? <br>\n",
    "Most common runtime for movies is between 90 and 95 minutes long, and the average runtime is 103.06 minutes. <br>\n",
    "11. What are the production companies with the most releases? <br>\n",
    "The production companies with the most releases are Universal Pictures, Warner Bros., and Paramount Pictures. <br>\n",
    "12. What are the most popular and the least popular movies? <br>\n",
    "The most popular movies are: Jurassic World, Mad Max: Fury Road, and Interstellar. The least popular movies are: The Hospital, G.B.F, and Mon petit doigt m'a dit. <br>\n",
    "13. Who are the most popular movie stars? <br>\n",
    "The most popular movie stars are: Harrison Ford, Michael Caine, and Ian Mckellen. <br>\n",
    "14. How did the number of released movies change over the years? <br>\n",
    "The number of movies released every year has been generally increasing from 1960 to 2015, with a significant increase between 2000 and 2010. Between 1960 and 2015, the years with the most movie releases are 2014, 2013, and 2015. The years with the least movie releases are 1961, 1962, and 1969. <br>\n",
    "15. What are the properties of each category of movies based on the movie budget? <br>\n",
    "High Budget movies have significantly better revenue, average popularity scores, and average votes count, however, the budget of a movie is a weak indicator to its avergae vote score. <br>\n",
    "16. What are the properties of each category of movies based on the movie rating? <br>\n",
    "Highly rated movies have significantly better revenue, average popularity scores, and average votes count, but the average budget is not an indicator on the movie vote score (as seen earlier, the correlation factor between vote_average and budget_adj is close to zero (0.02)). <br>"
   ]
  },
  {
   "cell_type": "markdown",
   "metadata": {},
   "source": [
    "### Limitations\n",
    "We have used TMBD Movies dataset for our analysis and worked with popularity, revenue and runtime. Our analysis is limited to only the provided data in the dataset. For example, the dataset does not confirm that every release is listed and all the information listed for each release is accurate. <br>\n",
    "There is no normalization is considered during this analysis thus the analysis is limited to the numerical values of the revenue and the budget. <br>\n",
    "Amost 50% of the movies in this dataset had missing or NULL values for the budget, budget_adj, revenue, revenue_adj. Thus, amputating this much of data might skew the analysis and could show unintentional bias towards the relationships being analyzed."
   ]
  },
  {
   "cell_type": "markdown",
   "metadata": {},
   "source": [
    "## Submitting the Project "
   ]
  },
  {
   "cell_type": "code",
   "execution_count": 180,
   "metadata": {},
   "outputs": [
    {
     "data": {
      "text/plain": [
       "0"
      ]
     },
     "execution_count": 180,
     "metadata": {},
     "output_type": "execute_result"
    }
   ],
   "source": [
    "from subprocess import call\n",
    "call(['python', '-m', 'nbconvert', 'Investigate_a_Dataset.ipynb'])"
   ]
  }
 ],
 "metadata": {
  "kernelspec": {
   "display_name": "Python 3",
   "language": "python",
   "name": "python3"
  },
  "language_info": {
   "codemirror_mode": {
    "name": "ipython",
    "version": 3
   },
   "file_extension": ".py",
   "mimetype": "text/x-python",
   "name": "python",
   "nbconvert_exporter": "python",
   "pygments_lexer": "ipython3",
   "version": "3.8.5"
  }
 },
 "nbformat": 4,
 "nbformat_minor": 2
}
